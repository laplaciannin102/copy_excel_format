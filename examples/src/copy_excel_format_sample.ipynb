{
 "cells": [
  {
   "cell_type": "markdown",
   "metadata": {},
   "source": [
    "# Readme\n",
    "\n",
    "## 概要\n",
    "\n",
    "### 何をするプログラム？\n",
    "\n",
    "- たくさんのテーブル(DataFrameを想定)をたくさんの書式付きexcelシートとして出力.\n",
    "\n",
    "### 注意事項\n",
    "\n",
    "- xlwingsを使用して並列処理する場合はexcelのインストールが必要.\n",
    "\n",
    "---\n",
    "\n",
    "## 入出力\n",
    "\n",
    "### 入力\n",
    "\n",
    "- 複数のpandas.DataFrame\n",
    "- 書式のテンプレートとして使用したいexcelシート\n",
    "\n",
    "### 出力\n",
    "\n",
    "- 書式付きでテーブルの値が入力済みシートが複数あるexcelファイル\n",
    "\n",
    "---\n",
    "\n",
    "## 参考\n",
    "\n",
    "- [openpyxlライブラリ](https://pypi.org/project/openpyxl/)\n",
    "- [xlwingsドキュメント](https://docs.xlwings.org/ja/latest/#)\n",
    "\n",
    "- [PythonでExcelシートを別のワークブックにコピーする方法](https://www.it-swarm-ja.tech/ja/python/python%E3%81%A7excel%E3%82%B7%E3%83%BC%E3%83%88%E3%82%92%E5%88%A5%E3%81%AE%E3%83%AF%E3%83%BC%E3%82%AF%E3%83%96%E3%83%83%E3%82%AF%E3%81%AB%E3%82%B3%E3%83%94%E3%83%BC%E3%81%99%E3%82%8B%E6%96%B9%E6%B3%95/831860805/)"
   ]
  },
  {
   "cell_type": "markdown",
   "metadata": {},
   "source": [
    "# Load modules"
   ]
  },
  {
   "cell_type": "code",
   "execution_count": null,
   "metadata": {
    "ExecuteTime": {
     "end_time": "2020-12-22T23:05:03.753361Z",
     "start_time": "2020-12-22T23:05:03.119967Z"
    }
   },
   "outputs": [],
   "source": [
    "import sys, os\n",
    "import gc\n",
    "import copy\n",
    "import numpy as np\n",
    "import pandas as pd\n",
    "\n",
    "import random\n",
    "\n",
    "import time\n",
    "from datetime import datetime, timedelta\n",
    "from dateutil.relativedelta import relativedelta\n",
    "\n",
    "# original module\n",
    "from excel_module import *"
   ]
  },
  {
   "cell_type": "code",
   "execution_count": null,
   "metadata": {
    "ExecuteTime": {
     "end_time": "2020-12-22T23:05:03.786590Z",
     "start_time": "2020-12-22T23:05:03.754847Z"
    }
   },
   "outputs": [],
   "source": [
    "gc.collect()"
   ]
  },
  {
   "cell_type": "code",
   "execution_count": null,
   "metadata": {},
   "outputs": [],
   "source": []
  },
  {
   "cell_type": "markdown",
   "metadata": {},
   "source": [
    "# Configures"
   ]
  },
  {
   "cell_type": "markdown",
   "metadata": {},
   "source": [
    "## random seed"
   ]
  },
  {
   "cell_type": "code",
   "execution_count": null,
   "metadata": {
    "ExecuteTime": {
     "end_time": "2020-12-22T23:05:03.802462Z",
     "start_time": "2020-12-22T23:05:03.789070Z"
    }
   },
   "outputs": [],
   "source": [
    "np.random.seed(57)\n",
    "random.seed(57)"
   ]
  },
  {
   "cell_type": "code",
   "execution_count": null,
   "metadata": {},
   "outputs": [],
   "source": []
  },
  {
   "cell_type": "markdown",
   "metadata": {},
   "source": [
    "# Constants"
   ]
  },
  {
   "cell_type": "markdown",
   "metadata": {},
   "source": [
    "## file path"
   ]
  },
  {
   "cell_type": "code",
   "execution_count": null,
   "metadata": {
    "ExecuteTime": {
     "end_time": "2020-12-22T23:05:03.807423Z",
     "start_time": "2020-12-22T23:05:03.804447Z"
    }
   },
   "outputs": [],
   "source": [
    "input_path = '../input/'\n",
    "output_path = '../output/'\n",
    "interm_path = '../intermediate/'"
   ]
  },
  {
   "cell_type": "code",
   "execution_count": null,
   "metadata": {
    "ExecuteTime": {
     "end_time": "2020-12-22T23:05:03.811886Z",
     "start_time": "2020-12-22T23:05:03.808911Z"
    }
   },
   "outputs": [],
   "source": [
    "input_template_excel_path = input_path + 'input_template_excel_sample.xlsx'\n",
    "input_header_csv_path = input_path + 'input_header_df_sample.csv'"
   ]
  },
  {
   "cell_type": "code",
   "execution_count": null,
   "metadata": {},
   "outputs": [],
   "source": []
  },
  {
   "cell_type": "markdown",
   "metadata": {},
   "source": [
    "# Functions"
   ]
  },
  {
   "cell_type": "markdown",
   "metadata": {},
   "source": [
    "## get_sample_df"
   ]
  },
  {
   "cell_type": "code",
   "execution_count": null,
   "metadata": {
    "ExecuteTime": {
     "end_time": "2020-12-22T23:05:03.828255Z",
     "start_time": "2020-12-22T23:05:03.813374Z"
    }
   },
   "outputs": [],
   "source": [
    "header_df = pd.read_csv(input_header_csv_path)\n",
    "header_df.head()"
   ]
  },
  {
   "cell_type": "code",
   "execution_count": null,
   "metadata": {
    "ExecuteTime": {
     "end_time": "2020-12-22T23:05:03.836686Z",
     "start_time": "2020-12-22T23:05:03.829743Z"
    }
   },
   "outputs": [],
   "source": [
    "def get_sample_df(n_rows=10, header_df=header_df):\n",
    "    \"\"\"\n",
    "    sampleデータを作成する関数.\n",
    "    \n",
    "    Args:\n",
    "        n_rows: int, optional(default=10)\n",
    "            データ部分のDataFrameの行数.\n",
    "        \n",
    "        header_df: pandas.DataFrame\n",
    "            ヘッダー部分のDataFrame\n",
    "    \"\"\"\n",
    "    col1_samples = ['hoge', 'fuga', 'poyo', 'gray', None]\n",
    "    \n",
    "    sample_df = pd.DataFrame()\n",
    "    sample_df['No.'] = range(n_rows)\n",
    "    sample_df['No.'] = sample_df['No.'] + 1\n",
    "    sample_df['date'] = [datetime(2020, 11, 20) + relativedelta(days=jj*7) for jj in range(n_rows)]\n",
    "    sample_df['col1'] = random.choices(col1_samples, k=n_rows)\n",
    "    sample_df['col2'] = np.random.randint(0, 10, size=n_rows)\n",
    "    sample_df['col3'] = np.random.randint(100, 200, size=n_rows)\n",
    "    sample_df['col4'] = random.choices(col1_samples, k=n_rows)\n",
    "    sample_df['col5'] = np.random.randint(0, 10, size=n_rows)\n",
    "    sample_df['col6'] = np.random.randint(100, 200, size=n_rows)\n",
    "    \n",
    "    # headerをつける\n",
    "    tmp_name = random.choice(['hoge', 'fuga', 'poyo'])\n",
    "    tmp_header_df = header_df.copy()\n",
    "    tmp_header_df = tmp_header_df.replace('name: <name>', 'name: ' + tmp_name)\n",
    "    \n",
    "    sample_df = tmp_header_df.append(sample_df)\n",
    "    \n",
    "    return sample_df"
   ]
  },
  {
   "cell_type": "markdown",
   "metadata": {},
   "source": [
    "### get_sample_df example"
   ]
  },
  {
   "cell_type": "code",
   "execution_count": null,
   "metadata": {
    "ExecuteTime": {
     "end_time": "2020-12-22T23:05:03.862975Z",
     "start_time": "2020-12-22T23:05:03.840158Z"
    }
   },
   "outputs": [],
   "source": [
    "sample_df = get_sample_df()\n",
    "sample_df.head(3)"
   ]
  },
  {
   "cell_type": "code",
   "execution_count": null,
   "metadata": {
    "ExecuteTime": {
     "end_time": "2020-12-22T23:05:03.876366Z",
     "start_time": "2020-12-22T23:05:03.864959Z"
    }
   },
   "outputs": [],
   "source": [
    "sample_df.tail()"
   ]
  },
  {
   "cell_type": "code",
   "execution_count": null,
   "metadata": {},
   "outputs": [],
   "source": []
  },
  {
   "cell_type": "markdown",
   "metadata": {},
   "source": [
    "# excel書式コピー準備"
   ]
  },
  {
   "cell_type": "markdown",
   "metadata": {},
   "source": [
    "## テンプレートのexcelパスとシート名とDataFrameをセット"
   ]
  },
  {
   "cell_type": "code",
   "execution_count": null,
   "metadata": {
    "ExecuteTime": {
     "end_time": "2020-12-22T23:05:04.185894Z",
     "start_time": "2020-12-22T23:05:03.877855Z"
    },
    "code_folding": []
   },
   "outputs": [],
   "source": [
    "# DataFrameの数. シート数も同じ数.\n",
    "n_df = 10\n",
    "\n",
    "# CopyExcelInfoHolderオブジェクトインスタンスのリスト\n",
    "ceih_list = []\n",
    "\n",
    "# ceih_listというCopyExcelInfoHolderオブジェクトインスタンスのリストを作成しておく\n",
    "for ii in range(n_df):\n",
    "    \n",
    "    tmp_sheet_name = 'sheet' + str(ii+1).zfill(3)\n",
    "    tmp_df = get_sample_df(\n",
    "        n_rows = np.random.randint(10, 28)\n",
    "    )\n",
    "\n",
    "    ceih = CopyExcelInfoHolder(\n",
    "        template_excel_path = input_template_excel_path,\n",
    "        template_sheet_name = 'blank_template',\n",
    "        output_sheet_name = tmp_sheet_name,\n",
    "        df = tmp_df\n",
    "    )\n",
    "    \n",
    "    ceih_list += [ceih]\n",
    "    \n",
    "    del ceih\n",
    "    gc.collect()"
   ]
  },
  {
   "cell_type": "code",
   "execution_count": null,
   "metadata": {
    "ExecuteTime": {
     "end_time": "2020-12-22T23:05:04.191327Z",
     "start_time": "2020-12-22T23:05:04.187358Z"
    }
   },
   "outputs": [],
   "source": [
    "# ceih_listというCopyExcelInfoHolderオブジェクトインスタンスのリストを作成しておく\n",
    "ceih_list[:3]"
   ]
  },
  {
   "cell_type": "code",
   "execution_count": null,
   "metadata": {
    "ExecuteTime": {
     "end_time": "2020-12-22T23:05:04.204222Z",
     "start_time": "2020-12-22T23:05:04.192815Z"
    }
   },
   "outputs": [],
   "source": [
    "# ceih_listの中身を表示\n",
    "[print('template_excel_path:{}'.format(ii.template_excel_path)) for ii in ceih_list[:3]]"
   ]
  },
  {
   "cell_type": "code",
   "execution_count": null,
   "metadata": {
    "ExecuteTime": {
     "end_time": "2020-12-22T23:05:04.210174Z",
     "start_time": "2020-12-22T23:05:04.205711Z"
    }
   },
   "outputs": [],
   "source": [
    "# ceih_listの中身を表示\n",
    "[print('template_sheet_name:{}'.format(ii.template_sheet_name)) for ii in ceih_list[:3]]"
   ]
  },
  {
   "cell_type": "code",
   "execution_count": null,
   "metadata": {
    "ExecuteTime": {
     "end_time": "2020-12-22T23:05:04.216624Z",
     "start_time": "2020-12-22T23:05:04.211663Z"
    }
   },
   "outputs": [],
   "source": [
    "# ceih_listの中身を表示\n",
    "[print('output_sheet_name:{}'.format(ii.output_sheet_name)) for ii in ceih_list[:3]]"
   ]
  },
  {
   "cell_type": "code",
   "execution_count": null,
   "metadata": {},
   "outputs": [],
   "source": []
  },
  {
   "cell_type": "code",
   "execution_count": null,
   "metadata": {
    "ExecuteTime": {
     "end_time": "2020-12-22T23:05:04.231503Z",
     "start_time": "2020-12-22T23:05:04.218610Z"
    }
   },
   "outputs": [],
   "source": [
    "# ceih_listの中身を表示\n",
    "[print('*' * 80 + '\\ndf.head(3):{}'.format(ii.df.head(3)) + '\\n' + '*' * 80 + '\\n\\n') for ii in ceih_list[:3]]"
   ]
  },
  {
   "cell_type": "code",
   "execution_count": null,
   "metadata": {
    "ExecuteTime": {
     "end_time": "2020-12-22T23:05:04.246383Z",
     "start_time": "2020-12-22T23:05:04.232990Z"
    }
   },
   "outputs": [],
   "source": [
    "# ceih_listの中身を表示\n",
    "[print('*' * 80 + '\\ndf.tail(3):{}'.format(ii.df.tail(3)) + '\\n' + '*' * 80 + '\\n\\n') for ii in ceih_list[:3]]"
   ]
  },
  {
   "cell_type": "code",
   "execution_count": null,
   "metadata": {
    "ExecuteTime": {
     "end_time": "2020-12-22T23:05:04.250847Z",
     "start_time": "2020-12-22T23:05:04.247871Z"
    }
   },
   "outputs": [],
   "source": [
    "print(len(ceih_list))"
   ]
  },
  {
   "cell_type": "code",
   "execution_count": null,
   "metadata": {},
   "outputs": [],
   "source": []
  },
  {
   "cell_type": "markdown",
   "metadata": {},
   "source": [
    "# excel書式コピーを直列で実行"
   ]
  },
  {
   "cell_type": "markdown",
   "metadata": {},
   "source": [
    "## 出力ファイル名定義"
   ]
  },
  {
   "cell_type": "code",
   "execution_count": null,
   "metadata": {
    "ExecuteTime": {
     "end_time": "2020-12-22T23:05:04.257294Z",
     "start_time": "2020-12-22T23:05:04.252831Z"
    }
   },
   "outputs": [],
   "source": [
    "output_excel_path = output_path + 'output_excel_sample.xlsx'\n",
    "output_excel_path"
   ]
  },
  {
   "cell_type": "markdown",
   "metadata": {},
   "source": [
    "## 実行"
   ]
  },
  {
   "cell_type": "code",
   "execution_count": null,
   "metadata": {
    "ExecuteTime": {
     "end_time": "2020-12-22T23:05:04.261264Z",
     "start_time": "2020-12-22T23:05:04.258782Z"
    }
   },
   "outputs": [],
   "source": [
    "start = time.time()"
   ]
  },
  {
   "cell_type": "code",
   "execution_count": null,
   "metadata": {
    "ExecuteTime": {
     "end_time": "2020-12-22T23:06:17.998105Z",
     "start_time": "2020-12-22T23:05:04.263247Z"
    },
    "scrolled": true
   },
   "outputs": [],
   "source": [
    "# copy_excel_format関数を実行\n",
    "copy_excel_format(\n",
    "    ceih_list = ceih_list,\n",
    "    output_excel_path = output_excel_path,\n",
    "    cef_manual_set_rows = None,\n",
    "    cef_force_dimension_copy = False,\n",
    "    cef_debug_mode = True,\n",
    "    write_index = False,\n",
    "    write_header = False,\n",
    "    copy_values = False\n",
    ")"
   ]
  },
  {
   "cell_type": "markdown",
   "metadata": {},
   "source": [
    "## 処理時間確認"
   ]
  },
  {
   "cell_type": "code",
   "execution_count": null,
   "metadata": {
    "ExecuteTime": {
     "end_time": "2020-12-22T23:06:18.004055Z",
     "start_time": "2020-12-22T23:06:17.999095Z"
    }
   },
   "outputs": [],
   "source": [
    "get_elapsed_time(start)"
   ]
  },
  {
   "cell_type": "raw",
   "metadata": {},
   "source": [
    "elapsed time: 73.7 s\n",
    "73.7408230304718"
   ]
  },
  {
   "cell_type": "code",
   "execution_count": null,
   "metadata": {},
   "outputs": [],
   "source": []
  },
  {
   "cell_type": "markdown",
   "metadata": {},
   "source": [
    "# excel書式コピーを並列で実行1(1つの関数で実行)"
   ]
  },
  {
   "cell_type": "markdown",
   "metadata": {},
   "source": [
    "## cpu数確認"
   ]
  },
  {
   "cell_type": "code",
   "execution_count": null,
   "metadata": {
    "ExecuteTime": {
     "end_time": "2020-12-22T23:06:18.012487Z",
     "start_time": "2020-12-22T23:06:18.005047Z"
    }
   },
   "outputs": [],
   "source": [
    "print('cpu_count:{}'.format(str(os.cpu_count())))"
   ]
  },
  {
   "cell_type": "markdown",
   "metadata": {},
   "source": [
    "## 出力ファイル名定義"
   ]
  },
  {
   "cell_type": "code",
   "execution_count": null,
   "metadata": {
    "ExecuteTime": {
     "end_time": "2020-12-22T23:06:18.019927Z",
     "start_time": "2020-12-22T23:06:18.015959Z"
    },
    "scrolled": true
   },
   "outputs": [],
   "source": [
    "output_excel_path = output_path + 'output_excel_sample_parallel001.xlsx'\n",
    "output_excel_path"
   ]
  },
  {
   "cell_type": "markdown",
   "metadata": {},
   "source": [
    "## 一時的出力ディレクトリ名定義"
   ]
  },
  {
   "cell_type": "code",
   "execution_count": null,
   "metadata": {
    "ExecuteTime": {
     "end_time": "2020-12-22T23:06:18.025383Z",
     "start_time": "2020-12-22T23:06:18.021911Z"
    },
    "scrolled": true
   },
   "outputs": [],
   "source": [
    "tmp_output_excel_dir_path = interm_path + 'tmp_output_excel/'\n",
    "tmp_output_excel_dir_path"
   ]
  },
  {
   "cell_type": "markdown",
   "metadata": {},
   "source": [
    "## 実行"
   ]
  },
  {
   "cell_type": "code",
   "execution_count": null,
   "metadata": {
    "ExecuteTime": {
     "end_time": "2020-12-22T23:06:18.029351Z",
     "start_time": "2020-12-22T23:06:18.026872Z"
    }
   },
   "outputs": [],
   "source": [
    "start = time.time()"
   ]
  },
  {
   "cell_type": "code",
   "execution_count": null,
   "metadata": {
    "ExecuteTime": {
     "end_time": "2020-12-22T23:07:33.115577Z",
     "start_time": "2020-12-22T23:06:18.030839Z"
    }
   },
   "outputs": [],
   "source": [
    "# copy_excel_format関数の並列版を実行\n",
    "copy_excel_format_parallel(\n",
    "    ceih_list = ceih_list,\n",
    "    output_excel_path = output_excel_path,\n",
    "    tmp_output_excel_dir_path = tmp_output_excel_dir_path,\n",
    "    parallel_method = 'multiprocess',\n",
    "    n_jobs = None,\n",
    "    copy_sheet_method = 'xlwings',\n",
    "    sorted_sheet_names_list = None,\n",
    "    del_tmp_dir = True,\n",
    "    n_seconds_to_sleep = 1,\n",
    "    cef_manual_set_rows = None,\n",
    "    cef_force_dimension_copy = False,\n",
    "    cef_debug_mode = True,\n",
    "    write_index = False,\n",
    "    write_header = False,\n",
    "    copy_values = False\n",
    ")"
   ]
  },
  {
   "cell_type": "markdown",
   "metadata": {},
   "source": [
    "## 処理時間確認"
   ]
  },
  {
   "cell_type": "code",
   "execution_count": null,
   "metadata": {
    "ExecuteTime": {
     "end_time": "2020-12-22T23:07:33.124009Z",
     "start_time": "2020-12-22T23:07:33.117065Z"
    }
   },
   "outputs": [],
   "source": [
    "get_elapsed_time(start)"
   ]
  },
  {
   "cell_type": "raw",
   "metadata": {},
   "source": [
    "elapsed time: 75.1 s\n",
    "75.09118723869324"
   ]
  },
  {
   "cell_type": "code",
   "execution_count": null,
   "metadata": {},
   "outputs": [],
   "source": []
  },
  {
   "cell_type": "code",
   "execution_count": null,
   "metadata": {},
   "outputs": [],
   "source": []
  },
  {
   "cell_type": "markdown",
   "metadata": {},
   "source": [
    "# excel書式コピーを並列で実行2(2つの関数に分けて実行)"
   ]
  },
  {
   "cell_type": "markdown",
   "metadata": {},
   "source": [
    "## 出力ファイル名定義"
   ]
  },
  {
   "cell_type": "code",
   "execution_count": null,
   "metadata": {
    "ExecuteTime": {
     "end_time": "2020-12-22T23:07:33.130457Z",
     "start_time": "2020-12-22T23:07:33.125497Z"
    },
    "scrolled": true
   },
   "outputs": [],
   "source": [
    "output_excel_path = output_path + 'output_excel_sample_parallel002.xlsx'\n",
    "output_excel_path"
   ]
  },
  {
   "cell_type": "markdown",
   "metadata": {},
   "source": [
    "## 一時的出力ディレクトリ名定義"
   ]
  },
  {
   "cell_type": "code",
   "execution_count": null,
   "metadata": {
    "ExecuteTime": {
     "end_time": "2020-12-22T23:07:33.137898Z",
     "start_time": "2020-12-22T23:07:33.132938Z"
    },
    "scrolled": true
   },
   "outputs": [],
   "source": [
    "tmp_output_excel_dir_path = interm_path + 'tmp_output_excel/'\n",
    "tmp_output_excel_dir_path"
   ]
  },
  {
   "cell_type": "markdown",
   "metadata": {},
   "source": [
    "## 実行"
   ]
  },
  {
   "cell_type": "code",
   "execution_count": null,
   "metadata": {
    "ExecuteTime": {
     "end_time": "2020-12-22T23:07:33.142857Z",
     "start_time": "2020-12-22T23:07:33.139881Z"
    }
   },
   "outputs": [],
   "source": [
    "start = time.time()"
   ]
  },
  {
   "cell_type": "code",
   "execution_count": null,
   "metadata": {
    "ExecuteTime": {
     "end_time": "2020-12-22T23:07:55.514239Z",
     "start_time": "2020-12-22T23:07:33.145834Z"
    }
   },
   "outputs": [],
   "source": [
    "# 並列処理を行い, 一時的な書式設定済みのexcelファイルを出力する.\n",
    "output_temporary_excel_parallel(\n",
    "    ceih_list = ceih_list,\n",
    "    tmp_output_excel_dir_path = tmp_output_excel_dir_path,\n",
    "    parallel_method = 'multiprocess',\n",
    "    n_jobs = None,\n",
    "    cef_manual_set_rows = None,\n",
    "    cef_force_dimension_copy = False,\n",
    "    cef_debug_mode = True,\n",
    "    write_index = False,\n",
    "    write_header = False,\n",
    "    copy_values = False\n",
    ")"
   ]
  },
  {
   "cell_type": "code",
   "execution_count": null,
   "metadata": {
    "ExecuteTime": {
     "end_time": "2020-12-22T23:08:58.431895Z",
     "start_time": "2020-12-22T23:07:55.515727Z"
    }
   },
   "outputs": [],
   "source": [
    "# 一時的に出力した複数のexcelファイルをまとめて複数シートを持つ1つのexcelファイルとする.\n",
    "copy_excel_format_from_temporary_files(\n",
    "    ceih_list = ceih_list,\n",
    "    output_excel_path = output_excel_path,\n",
    "    tmp_output_excel_dir_path = tmp_output_excel_dir_path,\n",
    "    copy_sheet_method = 'xlwings',\n",
    "    sorted_sheet_names_list = None,\n",
    "    del_tmp_dir = True,\n",
    "    n_seconds_to_sleep = 1\n",
    ")"
   ]
  },
  {
   "cell_type": "markdown",
   "metadata": {},
   "source": [
    "## 処理時間確認"
   ]
  },
  {
   "cell_type": "code",
   "execution_count": null,
   "metadata": {
    "ExecuteTime": {
     "end_time": "2020-12-22T23:08:58.439335Z",
     "start_time": "2020-12-22T23:08:58.433383Z"
    }
   },
   "outputs": [],
   "source": [
    "get_elapsed_time(start)"
   ]
  },
  {
   "cell_type": "raw",
   "metadata": {},
   "source": [
    "elapsed time: 85.3 s\n",
    "85.29300665855408"
   ]
  },
  {
   "cell_type": "code",
   "execution_count": null,
   "metadata": {},
   "outputs": [],
   "source": []
  },
  {
   "cell_type": "code",
   "execution_count": null,
   "metadata": {},
   "outputs": [],
   "source": []
  }
 ],
 "metadata": {
  "kernelspec": {
   "display_name": "Python 3",
   "language": "python",
   "name": "python3"
  },
  "language_info": {
   "codemirror_mode": {
    "name": "ipython",
    "version": 3
   },
   "file_extension": ".py",
   "mimetype": "text/x-python",
   "name": "python",
   "nbconvert_exporter": "python",
   "pygments_lexer": "ipython3",
   "version": "3.8.5"
  },
  "toc": {
   "base_numbering": 1,
   "nav_menu": {},
   "number_sections": true,
   "sideBar": true,
   "skip_h1_title": false,
   "title_cell": "Table of Contents",
   "title_sidebar": "Contents",
   "toc_cell": false,
   "toc_position": {
    "height": "calc(100% - 180px)",
    "left": "10px",
    "top": "150px",
    "width": "222.075px"
   },
   "toc_section_display": true,
   "toc_window_display": true
  }
 },
 "nbformat": 4,
 "nbformat_minor": 4
}
