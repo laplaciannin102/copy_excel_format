{
 "cells": [
  {
   "cell_type": "markdown",
   "metadata": {},
   "source": [
    "# Readme\n",
    "\n",
    "## 概要\n",
    "\n",
    "### 何をするプログラム？\n",
    "\n",
    "- たくさんのテーブル(DataFrameを想定)をたくさんの書式付きexcelシートとして出力.\n",
    "\n",
    "### 注意事項\n",
    "\n",
    "- xlwingsを使用して並列処理する場合はexcelのインストールが必要.\n",
    "\n",
    "---\n",
    "\n",
    "## 入出力\n",
    "\n",
    "### 入力\n",
    "\n",
    "- 複数のpandas.DataFrame\n",
    "- 書式のテンプレートとして使用したいexcelシート\n",
    "\n",
    "### 出力\n",
    "\n",
    "- 書式付きでテーブルの値が入力済みシートが複数あるexcelファイル\n",
    "\n",
    "---\n",
    "\n",
    "## 参考\n",
    "\n",
    "- [openpyxlライブラリ](https://pypi.org/project/openpyxl/)\n",
    "- [xlwingsドキュメント](https://docs.xlwings.org/ja/latest/#)\n",
    "\n",
    "- [PythonでExcelシートを別のワークブックにコピーする方法](https://www.it-swarm-ja.tech/ja/python/python%E3%81%A7excel%E3%82%B7%E3%83%BC%E3%83%88%E3%82%92%E5%88%A5%E3%81%AE%E3%83%AF%E3%83%BC%E3%82%AF%E3%83%96%E3%83%83%E3%82%AF%E3%81%AB%E3%82%B3%E3%83%94%E3%83%BC%E3%81%99%E3%82%8B%E6%96%B9%E6%B3%95/831860805/)"
   ]
  },
  {
   "cell_type": "markdown",
   "metadata": {},
   "source": [
    "# Load modules"
   ]
  },
  {
   "cell_type": "code",
   "execution_count": null,
   "metadata": {
    "ExecuteTime": {
     "end_time": "2020-12-22T23:51:29.514296Z",
     "start_time": "2020-12-22T23:51:28.858583Z"
    }
   },
   "outputs": [],
   "source": [
    "import sys, os\n",
    "import gc\n",
    "import copy\n",
    "import numpy as np\n",
    "import pandas as pd\n",
    "\n",
    "import random\n",
    "\n",
    "import time\n",
    "from datetime import datetime, timedelta\n",
    "from dateutil.relativedelta import relativedelta\n",
    "\n",
    "# copy_excel_format\n",
    "from copy_excel_format import *"
   ]
  },
  {
   "cell_type": "code",
   "execution_count": null,
   "metadata": {
    "ExecuteTime": {
     "end_time": "2020-12-22T23:51:29.552983Z",
     "start_time": "2020-12-22T23:51:29.516775Z"
    }
   },
   "outputs": [],
   "source": [
    "gc.collect()"
   ]
  },
  {
   "cell_type": "code",
   "execution_count": null,
   "metadata": {},
   "outputs": [],
   "source": []
  },
  {
   "cell_type": "markdown",
   "metadata": {},
   "source": [
    "# Configures"
   ]
  },
  {
   "cell_type": "markdown",
   "metadata": {},
   "source": [
    "## random seed"
   ]
  },
  {
   "cell_type": "code",
   "execution_count": null,
   "metadata": {
    "ExecuteTime": {
     "end_time": "2020-12-22T23:51:29.566375Z",
     "start_time": "2020-12-22T23:51:29.555462Z"
    }
   },
   "outputs": [],
   "source": [
    "np.random.seed(57)\n",
    "random.seed(57)"
   ]
  },
  {
   "cell_type": "code",
   "execution_count": null,
   "metadata": {},
   "outputs": [],
   "source": []
  },
  {
   "cell_type": "markdown",
   "metadata": {},
   "source": [
    "# Constants"
   ]
  },
  {
   "cell_type": "markdown",
   "metadata": {},
   "source": [
    "## file path"
   ]
  },
  {
   "cell_type": "code",
   "execution_count": null,
   "metadata": {
    "ExecuteTime": {
     "end_time": "2020-12-22T23:51:29.588694Z",
     "start_time": "2020-12-22T23:51:29.568357Z"
    }
   },
   "outputs": [],
   "source": [
    "input_path = '../input/'\n",
    "output_path = '../output/'\n",
    "interm_path = '../intermediate/'"
   ]
  },
  {
   "cell_type": "code",
   "execution_count": null,
   "metadata": {
    "ExecuteTime": {
     "end_time": "2020-12-22T23:51:29.611875Z",
     "start_time": "2020-12-22T23:51:29.590182Z"
    }
   },
   "outputs": [],
   "source": [
    "input_template_excel_path = input_path + 'input_template_excel_sample.xlsx'\n",
    "input_header_csv_path = input_path + 'input_header_df_sample.csv'"
   ]
  },
  {
   "cell_type": "code",
   "execution_count": null,
   "metadata": {},
   "outputs": [],
   "source": []
  },
  {
   "cell_type": "markdown",
   "metadata": {},
   "source": [
    "# Functions"
   ]
  },
  {
   "cell_type": "markdown",
   "metadata": {},
   "source": [
    "## get_sample_df"
   ]
  },
  {
   "cell_type": "code",
   "execution_count": null,
   "metadata": {
    "ExecuteTime": {
     "end_time": "2020-12-22T23:51:29.641129Z",
     "start_time": "2020-12-22T23:51:29.612857Z"
    }
   },
   "outputs": [],
   "source": [
    "header_df = pd.read_csv(input_header_csv_path)\n",
    "header_df.head()"
   ]
  },
  {
   "cell_type": "code",
   "execution_count": null,
   "metadata": {
    "ExecuteTime": {
     "end_time": "2020-12-22T23:51:29.653529Z",
     "start_time": "2020-12-22T23:51:29.643609Z"
    }
   },
   "outputs": [],
   "source": [
    "def get_sample_df(n_rows=10, header_df=header_df):\n",
    "    \"\"\"\n",
    "    sampleデータを作成する関数.\n",
    "    \n",
    "    Args:\n",
    "        n_rows: int, optional(default=10)\n",
    "            データ部分のDataFrameの行数.\n",
    "        \n",
    "        header_df: pandas.DataFrame\n",
    "            ヘッダー部分のDataFrame\n",
    "    \"\"\"\n",
    "    col1_samples = ['hoge', 'fuga', 'poyo', 'gray', None]\n",
    "    \n",
    "    sample_df = pd.DataFrame()\n",
    "    sample_df['No.'] = range(n_rows)\n",
    "    sample_df['No.'] = sample_df['No.'] + 1\n",
    "    sample_df['date'] = [datetime(2020, 11, 20) + relativedelta(days=jj*7) for jj in range(n_rows)]\n",
    "    sample_df['col1'] = random.choices(col1_samples, k=n_rows)\n",
    "    sample_df['col2'] = np.random.randint(0, 10, size=n_rows)\n",
    "    sample_df['col3'] = np.random.randint(100, 200, size=n_rows)\n",
    "    sample_df['col4'] = random.choices(col1_samples, k=n_rows)\n",
    "    sample_df['col5'] = np.random.randint(0, 10, size=n_rows)\n",
    "    sample_df['col6'] = np.random.randint(100, 200, size=n_rows)\n",
    "    \n",
    "    # headerをつける\n",
    "    tmp_name = random.choice(['hoge', 'fuga', 'poyo'])\n",
    "    tmp_header_df = header_df.copy()\n",
    "    tmp_header_df = tmp_header_df.replace('name: <name>', 'name: ' + tmp_name)\n",
    "    \n",
    "    sample_df = tmp_header_df.append(sample_df)\n",
    "    \n",
    "    return sample_df"
   ]
  },
  {
   "cell_type": "markdown",
   "metadata": {},
   "source": [
    "### get_sample_df example"
   ]
  },
  {
   "cell_type": "code",
   "execution_count": null,
   "metadata": {
    "ExecuteTime": {
     "end_time": "2020-12-22T23:51:29.678329Z",
     "start_time": "2020-12-22T23:51:29.657498Z"
    }
   },
   "outputs": [],
   "source": [
    "sample_df = get_sample_df()\n",
    "sample_df.head(3)"
   ]
  },
  {
   "cell_type": "code",
   "execution_count": null,
   "metadata": {
    "ExecuteTime": {
     "end_time": "2020-12-22T23:51:29.690729Z",
     "start_time": "2020-12-22T23:51:29.680314Z"
    }
   },
   "outputs": [],
   "source": [
    "sample_df.tail()"
   ]
  },
  {
   "cell_type": "code",
   "execution_count": null,
   "metadata": {},
   "outputs": [],
   "source": []
  },
  {
   "cell_type": "markdown",
   "metadata": {},
   "source": [
    "# excel書式コピー準備"
   ]
  },
  {
   "cell_type": "markdown",
   "metadata": {},
   "source": [
    "## テンプレートのexcelパスとシート名とDataFrameをセット"
   ]
  },
  {
   "cell_type": "code",
   "execution_count": null,
   "metadata": {
    "ExecuteTime": {
     "end_time": "2020-12-22T23:51:30.030985Z",
     "start_time": "2020-12-22T23:51:29.692217Z"
    },
    "code_folding": []
   },
   "outputs": [],
   "source": [
    "# DataFrameの数. シート数も同じ数.\n",
    "n_df = 10\n",
    "\n",
    "# CopyExcelInfoHolderオブジェクトインスタンスのリスト\n",
    "ceih_list = []\n",
    "\n",
    "# ceih_listというCopyExcelInfoHolderオブジェクトインスタンスのリストを作成しておく\n",
    "for ii in range(n_df):\n",
    "    \n",
    "    tmp_sheet_name = 'sheet' + str(ii+1).zfill(3)\n",
    "    tmp_df = get_sample_df(\n",
    "        n_rows = np.random.randint(10, 28)\n",
    "    )\n",
    "\n",
    "    ceih = CopyExcelInfoHolder(\n",
    "        template_excel_path = input_template_excel_path,\n",
    "        template_sheet_name = 'blank_template',\n",
    "        output_sheet_name = tmp_sheet_name,\n",
    "        df = tmp_df\n",
    "    )\n",
    "    \n",
    "    ceih_list += [ceih]\n",
    "    \n",
    "    del ceih\n",
    "    gc.collect()"
   ]
  },
  {
   "cell_type": "code",
   "execution_count": null,
   "metadata": {
    "ExecuteTime": {
     "end_time": "2020-12-22T23:51:30.038426Z",
     "start_time": "2020-12-22T23:51:30.033962Z"
    }
   },
   "outputs": [],
   "source": [
    "# ceih_listというCopyExcelInfoHolderオブジェクトインスタンスのリストを作成しておく\n",
    "ceih_list[:3]"
   ]
  },
  {
   "cell_type": "code",
   "execution_count": null,
   "metadata": {
    "ExecuteTime": {
     "end_time": "2020-12-22T23:51:30.068682Z",
     "start_time": "2020-12-22T23:51:30.039914Z"
    }
   },
   "outputs": [],
   "source": [
    "# ceih_listの中身を表示\n",
    "[print('template_excel_path:{}'.format(ii.template_excel_path)) for ii in ceih_list[:3]]"
   ]
  },
  {
   "cell_type": "code",
   "execution_count": null,
   "metadata": {
    "ExecuteTime": {
     "end_time": "2020-12-22T23:51:30.080090Z",
     "start_time": "2020-12-22T23:51:30.070170Z"
    }
   },
   "outputs": [],
   "source": [
    "# ceih_listの中身を表示\n",
    "[print('template_sheet_name:{}'.format(ii.template_sheet_name)) for ii in ceih_list[:3]]"
   ]
  },
  {
   "cell_type": "code",
   "execution_count": null,
   "metadata": {
    "ExecuteTime": {
     "end_time": "2020-12-22T23:51:30.089513Z",
     "start_time": "2020-12-22T23:51:30.082074Z"
    }
   },
   "outputs": [],
   "source": [
    "# ceih_listの中身を表示\n",
    "[print('output_sheet_name:{}'.format(ii.output_sheet_name)) for ii in ceih_list[:3]]"
   ]
  },
  {
   "cell_type": "code",
   "execution_count": null,
   "metadata": {},
   "outputs": [],
   "source": []
  },
  {
   "cell_type": "code",
   "execution_count": null,
   "metadata": {
    "ExecuteTime": {
     "end_time": "2020-12-22T23:51:30.106874Z",
     "start_time": "2020-12-22T23:51:30.091001Z"
    }
   },
   "outputs": [],
   "source": [
    "# ceih_listの中身を表示\n",
    "[print('*' * 80 + '\\ndf.head(3):{}'.format(ii.df.head(3)) + '\\n' + '*' * 80 + '\\n\\n') for ii in ceih_list[:3]]"
   ]
  },
  {
   "cell_type": "code",
   "execution_count": null,
   "metadata": {
    "ExecuteTime": {
     "end_time": "2020-12-22T23:51:30.121753Z",
     "start_time": "2020-12-22T23:51:30.108362Z"
    }
   },
   "outputs": [],
   "source": [
    "# ceih_listの中身を表示\n",
    "[print('*' * 80 + '\\ndf.tail(3):{}'.format(ii.df.tail(3)) + '\\n' + '*' * 80 + '\\n\\n') for ii in ceih_list[:3]]"
   ]
  },
  {
   "cell_type": "code",
   "execution_count": null,
   "metadata": {
    "ExecuteTime": {
     "end_time": "2020-12-22T23:51:30.138619Z",
     "start_time": "2020-12-22T23:51:30.123241Z"
    }
   },
   "outputs": [],
   "source": [
    "print(len(ceih_list))"
   ]
  },
  {
   "cell_type": "code",
   "execution_count": null,
   "metadata": {},
   "outputs": [],
   "source": []
  },
  {
   "cell_type": "markdown",
   "metadata": {},
   "source": [
    "# excel書式コピーを直列で実行"
   ]
  },
  {
   "cell_type": "markdown",
   "metadata": {},
   "source": [
    "## 出力ファイル名定義"
   ]
  },
  {
   "cell_type": "code",
   "execution_count": null,
   "metadata": {
    "ExecuteTime": {
     "end_time": "2020-12-22T23:51:30.157465Z",
     "start_time": "2020-12-22T23:51:30.140602Z"
    }
   },
   "outputs": [],
   "source": [
    "output_excel_path = output_path + 'output_excel_sample.xlsx'\n",
    "output_excel_path"
   ]
  },
  {
   "cell_type": "markdown",
   "metadata": {},
   "source": [
    "## 実行"
   ]
  },
  {
   "cell_type": "code",
   "execution_count": null,
   "metadata": {
    "ExecuteTime": {
     "end_time": "2020-12-22T23:51:30.167882Z",
     "start_time": "2020-12-22T23:51:30.158965Z"
    }
   },
   "outputs": [],
   "source": [
    "start = time.time()"
   ]
  },
  {
   "cell_type": "code",
   "execution_count": null,
   "metadata": {
    "ExecuteTime": {
     "end_time": "2020-12-22T23:52:47.261153Z",
     "start_time": "2020-12-22T23:51:30.169865Z"
    },
    "scrolled": true
   },
   "outputs": [],
   "source": [
    "# copy_excel_format関数を実行\n",
    "copy_excel_format(\n",
    "    ceih_list = ceih_list,\n",
    "    output_excel_path = output_excel_path,\n",
    "    cef_manual_set_rows = None,\n",
    "    cef_force_dimension_copy = False,\n",
    "    cef_debug_mode = True,\n",
    "    write_index = False,\n",
    "    write_header = False,\n",
    "    copy_values = False\n",
    ")"
   ]
  },
  {
   "cell_type": "markdown",
   "metadata": {},
   "source": [
    "## 処理時間確認"
   ]
  },
  {
   "cell_type": "code",
   "execution_count": null,
   "metadata": {
    "ExecuteTime": {
     "end_time": "2020-12-22T23:52:47.266610Z",
     "start_time": "2020-12-22T23:52:47.262641Z"
    }
   },
   "outputs": [],
   "source": [
    "get_elapsed_time(start)"
   ]
  },
  {
   "cell_type": "raw",
   "metadata": {},
   "source": [
    "elapsed time: 77.1 s\n",
    "77.09773564338684"
   ]
  },
  {
   "cell_type": "code",
   "execution_count": null,
   "metadata": {},
   "outputs": [],
   "source": []
  },
  {
   "cell_type": "markdown",
   "metadata": {},
   "source": [
    "# excel書式コピーを並列で実行1(1つの関数で実行)"
   ]
  },
  {
   "cell_type": "markdown",
   "metadata": {},
   "source": [
    "## cpu数確認"
   ]
  },
  {
   "cell_type": "code",
   "execution_count": null,
   "metadata": {
    "ExecuteTime": {
     "end_time": "2020-12-22T23:52:47.285953Z",
     "start_time": "2020-12-22T23:52:47.268593Z"
    }
   },
   "outputs": [],
   "source": [
    "print('cpu_count:{}'.format(str(os.cpu_count())))"
   ]
  },
  {
   "cell_type": "markdown",
   "metadata": {},
   "source": [
    "## 出力ファイル名定義"
   ]
  },
  {
   "cell_type": "code",
   "execution_count": null,
   "metadata": {
    "ExecuteTime": {
     "end_time": "2020-12-22T23:52:47.303843Z",
     "start_time": "2020-12-22T23:52:47.288930Z"
    },
    "scrolled": true
   },
   "outputs": [],
   "source": [
    "output_excel_path = output_path + 'output_excel_sample_parallel001.xlsx'\n",
    "output_excel_path"
   ]
  },
  {
   "cell_type": "markdown",
   "metadata": {},
   "source": [
    "## 一時的出力ディレクトリ名定義"
   ]
  },
  {
   "cell_type": "code",
   "execution_count": null,
   "metadata": {
    "ExecuteTime": {
     "end_time": "2020-12-22T23:52:47.315747Z",
     "start_time": "2020-12-22T23:52:47.305331Z"
    },
    "scrolled": true
   },
   "outputs": [],
   "source": [
    "tmp_output_excel_dir_path = interm_path + 'tmp_output_excel/'\n",
    "tmp_output_excel_dir_path"
   ]
  },
  {
   "cell_type": "markdown",
   "metadata": {},
   "source": [
    "## 実行"
   ]
  },
  {
   "cell_type": "code",
   "execution_count": null,
   "metadata": {
    "ExecuteTime": {
     "end_time": "2020-12-22T23:52:47.323682Z",
     "start_time": "2020-12-22T23:52:47.317731Z"
    }
   },
   "outputs": [],
   "source": [
    "start = time.time()"
   ]
  },
  {
   "cell_type": "code",
   "execution_count": null,
   "metadata": {
    "ExecuteTime": {
     "end_time": "2020-12-22T23:54:16.329445Z",
     "start_time": "2020-12-22T23:52:47.325170Z"
    }
   },
   "outputs": [],
   "source": [
    "# copy_excel_format関数の並列版を実行\n",
    "copy_excel_format_parallel(\n",
    "    ceih_list = ceih_list,\n",
    "    output_excel_path = output_excel_path,\n",
    "    tmp_output_excel_dir_path = tmp_output_excel_dir_path,\n",
    "    parallel_method = 'multiprocess',\n",
    "    n_jobs = None,\n",
    "    copy_sheet_method = 'xlwings',\n",
    "    sorted_sheet_names_list = None,\n",
    "    del_tmp_dir = True,\n",
    "    n_seconds_to_sleep = 1,\n",
    "    cef_manual_set_rows = None,\n",
    "    cef_force_dimension_copy = False,\n",
    "    cef_debug_mode = True,\n",
    "    write_index = False,\n",
    "    write_header = False,\n",
    "    copy_values = False\n",
    ")"
   ]
  },
  {
   "cell_type": "markdown",
   "metadata": {},
   "source": [
    "## 処理時間確認"
   ]
  },
  {
   "cell_type": "code",
   "execution_count": null,
   "metadata": {
    "ExecuteTime": {
     "end_time": "2020-12-22T23:54:16.336885Z",
     "start_time": "2020-12-22T23:54:16.330933Z"
    }
   },
   "outputs": [],
   "source": [
    "get_elapsed_time(start)"
   ]
  },
  {
   "cell_type": "raw",
   "metadata": {},
   "source": [
    "elapsed time: 89.0 s\n",
    "89.00972938537598"
   ]
  },
  {
   "cell_type": "code",
   "execution_count": null,
   "metadata": {},
   "outputs": [],
   "source": []
  },
  {
   "cell_type": "code",
   "execution_count": null,
   "metadata": {},
   "outputs": [],
   "source": []
  },
  {
   "cell_type": "markdown",
   "metadata": {},
   "source": [
    "# excel書式コピーを並列で実行2(2つの関数に分けて実行)"
   ]
  },
  {
   "cell_type": "markdown",
   "metadata": {},
   "source": [
    "## 出力ファイル名定義"
   ]
  },
  {
   "cell_type": "code",
   "execution_count": null,
   "metadata": {
    "ExecuteTime": {
     "end_time": "2020-12-22T23:54:16.346805Z",
     "start_time": "2020-12-22T23:54:16.339366Z"
    },
    "scrolled": true
   },
   "outputs": [],
   "source": [
    "output_excel_path = output_path + 'output_excel_sample_parallel002.xlsx'\n",
    "output_excel_path"
   ]
  },
  {
   "cell_type": "markdown",
   "metadata": {},
   "source": [
    "## 一時的出力ディレクトリ名定義"
   ]
  },
  {
   "cell_type": "code",
   "execution_count": null,
   "metadata": {
    "ExecuteTime": {
     "end_time": "2020-12-22T23:54:16.360693Z",
     "start_time": "2020-12-22T23:54:16.348294Z"
    },
    "scrolled": true
   },
   "outputs": [],
   "source": [
    "tmp_output_excel_dir_path = interm_path + 'tmp_output_excel/'\n",
    "tmp_output_excel_dir_path"
   ]
  },
  {
   "cell_type": "markdown",
   "metadata": {},
   "source": [
    "## 実行"
   ]
  },
  {
   "cell_type": "code",
   "execution_count": null,
   "metadata": {
    "ExecuteTime": {
     "end_time": "2020-12-22T23:54:16.372101Z",
     "start_time": "2020-12-22T23:54:16.362181Z"
    }
   },
   "outputs": [],
   "source": [
    "start = time.time()"
   ]
  },
  {
   "cell_type": "code",
   "execution_count": null,
   "metadata": {
    "ExecuteTime": {
     "end_time": "2020-12-22T23:54:37.966505Z",
     "start_time": "2020-12-22T23:54:16.374085Z"
    }
   },
   "outputs": [],
   "source": [
    "# 並列処理を行い, 一時的な書式設定済みのexcelファイルを出力する.\n",
    "output_temporary_excel_parallel(\n",
    "    ceih_list = ceih_list,\n",
    "    tmp_output_excel_dir_path = tmp_output_excel_dir_path,\n",
    "    parallel_method = 'multiprocess',\n",
    "    n_jobs = None,\n",
    "    cef_manual_set_rows = None,\n",
    "    cef_force_dimension_copy = False,\n",
    "    cef_debug_mode = True,\n",
    "    write_index = False,\n",
    "    write_header = False,\n",
    "    copy_values = False\n",
    ")"
   ]
  },
  {
   "cell_type": "code",
   "execution_count": null,
   "metadata": {
    "ExecuteTime": {
     "end_time": "2020-12-22T23:55:40.409480Z",
     "start_time": "2020-12-22T23:54:37.967994Z"
    }
   },
   "outputs": [],
   "source": [
    "# 一時的に出力した複数のexcelファイルをまとめて複数シートを持つ1つのexcelファイルとする.\n",
    "copy_excel_format_from_temporary_files(\n",
    "    ceih_list = ceih_list,\n",
    "    output_excel_path = output_excel_path,\n",
    "    tmp_output_excel_dir_path = tmp_output_excel_dir_path,\n",
    "    copy_sheet_method = 'xlwings',\n",
    "    sorted_sheet_names_list = None,\n",
    "    del_tmp_dir = True,\n",
    "    n_seconds_to_sleep = 1\n",
    ")"
   ]
  },
  {
   "cell_type": "markdown",
   "metadata": {},
   "source": [
    "## 処理時間確認"
   ]
  },
  {
   "cell_type": "code",
   "execution_count": null,
   "metadata": {
    "ExecuteTime": {
     "end_time": "2020-12-22T23:55:40.414935Z",
     "start_time": "2020-12-22T23:55:40.410471Z"
    }
   },
   "outputs": [],
   "source": [
    "get_elapsed_time(start)"
   ]
  },
  {
   "cell_type": "raw",
   "metadata": {},
   "source": [
    "elapsed time: 84.0 s\n",
    "84.04134583473206"
   ]
  },
  {
   "cell_type": "code",
   "execution_count": null,
   "metadata": {},
   "outputs": [],
   "source": []
  },
  {
   "cell_type": "code",
   "execution_count": null,
   "metadata": {},
   "outputs": [],
   "source": []
  }
 ],
 "metadata": {
  "kernelspec": {
   "display_name": "Python 3",
   "language": "python",
   "name": "python3"
  },
  "language_info": {
   "codemirror_mode": {
    "name": "ipython",
    "version": 3
   },
   "file_extension": ".py",
   "mimetype": "text/x-python",
   "name": "python",
   "nbconvert_exporter": "python",
   "pygments_lexer": "ipython3",
   "version": "3.8.5"
  },
  "toc": {
   "base_numbering": 1,
   "nav_menu": {},
   "number_sections": true,
   "sideBar": true,
   "skip_h1_title": false,
   "title_cell": "Table of Contents",
   "title_sidebar": "Contents",
   "toc_cell": false,
   "toc_position": {
    "height": "calc(100% - 180px)",
    "left": "10px",
    "top": "150px",
    "width": "222.075px"
   },
   "toc_section_display": true,
   "toc_window_display": true
  }
 },
 "nbformat": 4,
 "nbformat_minor": 4
}
