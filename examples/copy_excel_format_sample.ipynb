{
 "cells": [
  {
   "cell_type": "markdown",
   "metadata": {},
   "source": [
    "# Readme\n",
    "\n",
    "- author: laplaciannin102(Kosuke Asada)\n",
    "- date: 2021/01/12\n",
    "- latest version: 0.1.9\n",
    "\n",
    "---\n",
    "\n",
    "## How to install\n",
    "\n",
    "```shell\n",
    "pip install copy_excel_format\n",
    "```\n",
    "\n",
    "---\n",
    "\n",
    "## 概要\n",
    "\n",
    "### 何をするプログラム？\n",
    "\n",
    "- たくさんのテーブル(DataFrameを想定)をたくさんの書式付きexcelシートとして出力する.\n",
    "\n",
    "### 注意事項\n",
    "\n",
    "- xlwingsを使用して並列処理する場合はexcelのインストール(Office)が必要.\n",
    "- テスト等きちんと出来ていないのでバグがある可能性あり.\n",
    "\n",
    "---\n",
    "\n",
    "## 入出力\n",
    "\n",
    "### 入力(Input)\n",
    "\n",
    "- 複数のpandas.DataFrame.\n",
    "- 書式のテンプレートとして使用したいexcelシート.\n",
    "\n",
    "### 出力(Output)\n",
    "\n",
    "- **書式付き**, **テーブルの値が入力済み**のシートが複数あるexcelファイル.\n",
    "  - 書式はテンプレートexcelファイルのもの.\n",
    "  - テーブルの値はpandas.DataFrameのもの.\n",
    "\n",
    "---\n",
    "\n",
    "## 使用手順\n",
    "\n",
    "- [README.md](https://github.com/laplaciannin102/copy_excel_format/blob/master/README.md)参照.\n",
    "\n",
    "---\n",
    "\n",
    "## 参考\n",
    "\n",
    "- [openpyxlライブラリ](https://pypi.org/project/openpyxl/)\n",
    "- [xlwingsドキュメント](https://docs.xlwings.org/ja/latest/#)\n",
    "\n",
    "- [PythonでExcelシートを別のワークブックにコピーする方法](https://www.it-swarm-ja.tech/ja/python/python%E3%81%A7excel%E3%82%B7%E3%83%BC%E3%83%88%E3%82%92%E5%88%A5%E3%81%AE%E3%83%AF%E3%83%BC%E3%82%AF%E3%83%96%E3%83%83%E3%82%AF%E3%81%AB%E3%82%B3%E3%83%94%E3%83%BC%E3%81%99%E3%82%8B%E6%96%B9%E6%B3%95/831860805/)"
   ]
  },
  {
   "cell_type": "markdown",
   "metadata": {},
   "source": [
    "# Load modules"
   ]
  },
  {
   "cell_type": "markdown",
   "metadata": {},
   "source": [
    "## copy-excel-format module"
   ]
  },
  {
   "cell_type": "code",
   "execution_count": null,
   "metadata": {
    "ExecuteTime": {
     "end_time": "2021-01-12T13:43:13.274948Z",
     "start_time": "2021-01-12T13:43:08.567636Z"
    }
   },
   "outputs": [],
   "source": [
    "# copy_excel_format\n",
    "import copy_excel_format as cef"
   ]
  },
  {
   "cell_type": "markdown",
   "metadata": {},
   "source": [
    "## other modules"
   ]
  },
  {
   "cell_type": "code",
   "execution_count": null,
   "metadata": {
    "ExecuteTime": {
     "end_time": "2021-01-12T13:43:13.280900Z",
     "start_time": "2021-01-12T13:43:13.276933Z"
    }
   },
   "outputs": [],
   "source": [
    "import os\n",
    "import gc\n",
    "import numpy as np\n",
    "import pandas as pd\n",
    "import random\n",
    "import time\n",
    "from datetime import datetime, timedelta\n",
    "from dateutil.relativedelta import relativedelta"
   ]
  },
  {
   "cell_type": "code",
   "execution_count": null,
   "metadata": {
    "ExecuteTime": {
     "end_time": "2021-01-12T13:43:13.329508Z",
     "start_time": "2021-01-12T13:43:13.283380Z"
    }
   },
   "outputs": [],
   "source": [
    "gc.collect()"
   ]
  },
  {
   "cell_type": "code",
   "execution_count": null,
   "metadata": {},
   "outputs": [],
   "source": []
  },
  {
   "cell_type": "markdown",
   "metadata": {},
   "source": [
    "# Configures"
   ]
  },
  {
   "cell_type": "markdown",
   "metadata": {},
   "source": [
    "## random seed"
   ]
  },
  {
   "cell_type": "code",
   "execution_count": null,
   "metadata": {
    "ExecuteTime": {
     "end_time": "2021-01-12T13:43:13.350340Z",
     "start_time": "2021-01-12T13:43:13.331492Z"
    }
   },
   "outputs": [],
   "source": [
    "np.random.seed(57)\n",
    "random.seed(57)"
   ]
  },
  {
   "cell_type": "code",
   "execution_count": null,
   "metadata": {},
   "outputs": [],
   "source": []
  },
  {
   "cell_type": "markdown",
   "metadata": {},
   "source": [
    "# Constants"
   ]
  },
  {
   "cell_type": "markdown",
   "metadata": {},
   "source": [
    "## paths"
   ]
  },
  {
   "cell_type": "markdown",
   "metadata": {},
   "source": [
    "## directory paths"
   ]
  },
  {
   "cell_type": "code",
   "execution_count": null,
   "metadata": {
    "ExecuteTime": {
     "end_time": "2021-01-12T13:43:13.355299Z",
     "start_time": "2021-01-12T13:43:13.351828Z"
    }
   },
   "outputs": [],
   "source": [
    "input_path = './input/'\n",
    "output_path = './output/'\n",
    "interm_path = './intermediate/'"
   ]
  },
  {
   "cell_type": "markdown",
   "metadata": {},
   "source": [
    "## file paths"
   ]
  },
  {
   "cell_type": "code",
   "execution_count": null,
   "metadata": {
    "ExecuteTime": {
     "end_time": "2021-01-12T13:43:13.360260Z",
     "start_time": "2021-01-12T13:43:13.356788Z"
    }
   },
   "outputs": [],
   "source": [
    "input_template_excel_path = input_path + 'input_template_excel_sample.xlsx'\n",
    "input_header_csv_path = input_path + 'input_header_df_sample.csv'"
   ]
  },
  {
   "cell_type": "code",
   "execution_count": null,
   "metadata": {},
   "outputs": [],
   "source": []
  },
  {
   "cell_type": "markdown",
   "metadata": {},
   "source": [
    "# Load sample files"
   ]
  },
  {
   "cell_type": "code",
   "execution_count": null,
   "metadata": {
    "ExecuteTime": {
     "end_time": "2021-01-12T13:43:13.371668Z",
     "start_time": "2021-01-12T13:43:13.361748Z"
    }
   },
   "outputs": [],
   "source": [
    "cef.load_sample_files()"
   ]
  },
  {
   "cell_type": "markdown",
   "metadata": {},
   "source": [
    "# Functions"
   ]
  },
  {
   "cell_type": "markdown",
   "metadata": {},
   "source": [
    "## get_sample_df"
   ]
  },
  {
   "cell_type": "code",
   "execution_count": null,
   "metadata": {
    "ExecuteTime": {
     "end_time": "2021-01-12T13:43:13.427220Z",
     "start_time": "2021-01-12T13:43:13.374678Z"
    }
   },
   "outputs": [],
   "source": [
    "header_df = pd.read_csv(input_header_csv_path)\n",
    "header_df.head()"
   ]
  },
  {
   "cell_type": "code",
   "execution_count": null,
   "metadata": {
    "ExecuteTime": {
     "end_time": "2021-01-12T13:43:13.445572Z",
     "start_time": "2021-01-12T13:43:13.429203Z"
    }
   },
   "outputs": [],
   "source": [
    "def get_sample_df(n_rows=10, header_df=header_df):\n",
    "    \"\"\"\n",
    "    sampleデータを作成する関数.\n",
    "    \n",
    "    Args:\n",
    "        n_rows: int, optional(default=10)\n",
    "            データ部分のDataFrameの行数.\n",
    "        \n",
    "        header_df: pandas.DataFrame\n",
    "            ヘッダー部分のDataFrame\n",
    "    \"\"\"\n",
    "    col1_samples = ['hoge', 'fuga', 'poyo', 'gray', None]\n",
    "    \n",
    "    sample_df = pd.DataFrame()\n",
    "    sample_df['No.'] = range(n_rows)\n",
    "    sample_df['No.'] = sample_df['No.'] + 1\n",
    "    sample_df['date'] = [datetime(2020, 11, 20) + relativedelta(days=jj*7) for jj in range(n_rows)]\n",
    "    sample_df['col1'] = random.choices(col1_samples, k=n_rows)\n",
    "    sample_df['col2'] = np.random.randint(0, 10, size=n_rows)\n",
    "    sample_df['col3'] = np.random.randint(100, 200, size=n_rows)\n",
    "    sample_df['col4'] = random.choices(col1_samples, k=n_rows)\n",
    "    sample_df['col5'] = np.random.randint(0, 10, size=n_rows)\n",
    "    sample_df['col6'] = np.random.randint(100, 200, size=n_rows)\n",
    "    \n",
    "    # headerをつける\n",
    "    tmp_name = random.choice(['hoge', 'fuga', 'poyo'])\n",
    "    tmp_header_df = header_df.copy()\n",
    "    tmp_header_df = tmp_header_df.replace('name: <name>', 'name: ' + tmp_name)\n",
    "    \n",
    "    sample_df = tmp_header_df.append(sample_df)\n",
    "    \n",
    "    return sample_df"
   ]
  },
  {
   "cell_type": "markdown",
   "metadata": {},
   "source": [
    "### get_sample_df example"
   ]
  },
  {
   "cell_type": "code",
   "execution_count": null,
   "metadata": {
    "ExecuteTime": {
     "end_time": "2021-01-12T13:43:13.635066Z",
     "start_time": "2021-01-12T13:43:13.447059Z"
    }
   },
   "outputs": [],
   "source": [
    "sample_df = get_sample_df()\n",
    "sample_df.head(3)"
   ]
  },
  {
   "cell_type": "code",
   "execution_count": null,
   "metadata": {
    "ExecuteTime": {
     "end_time": "2021-01-12T13:43:13.648955Z",
     "start_time": "2021-01-12T13:43:13.636057Z"
    }
   },
   "outputs": [],
   "source": [
    "sample_df.tail()"
   ]
  },
  {
   "cell_type": "code",
   "execution_count": null,
   "metadata": {},
   "outputs": [],
   "source": []
  },
  {
   "cell_type": "markdown",
   "metadata": {},
   "source": [
    "# excel書式コピー準備"
   ]
  },
  {
   "cell_type": "markdown",
   "metadata": {},
   "source": [
    "## テンプレートのexcelパスとシート名とDataFrameをセット"
   ]
  },
  {
   "cell_type": "code",
   "execution_count": null,
   "metadata": {
    "ExecuteTime": {
     "end_time": "2021-01-12T13:43:13.950028Z",
     "start_time": "2021-01-12T13:43:13.650442Z"
    },
    "code_folding": []
   },
   "outputs": [],
   "source": [
    "# DataFrameの数. シート数も同じ数.\n",
    "n_df = 10\n",
    "\n",
    "# CopyExcelInfoHolderオブジェクトインスタンスのリスト\n",
    "ceih_list = []\n",
    "\n",
    "# ceih_listというCopyExcelInfoHolderオブジェクトインスタンスのリストを作成しておく\n",
    "for ii in range(n_df):\n",
    "    \n",
    "    tmp_sheet_name = 'sheet' + str(ii+1).zfill(3)\n",
    "    tmp_df = get_sample_df(\n",
    "        n_rows = np.random.randint(10, 28)\n",
    "    )\n",
    "\n",
    "    ceih = cef.CopyExcelInfoHolder(\n",
    "        template_excel_path = input_template_excel_path,\n",
    "        template_sheet_name = 'blank_template',\n",
    "        output_sheet_name = tmp_sheet_name,\n",
    "        df = tmp_df\n",
    "    )\n",
    "    \n",
    "    ceih_list += [ceih]\n",
    "    \n",
    "    del ceih\n",
    "    gc.collect()"
   ]
  },
  {
   "cell_type": "code",
   "execution_count": null,
   "metadata": {
    "ExecuteTime": {
     "end_time": "2021-01-12T13:43:13.955978Z",
     "start_time": "2021-01-12T13:43:13.952009Z"
    }
   },
   "outputs": [],
   "source": [
    "# ceih_listというCopyExcelInfoHolderオブジェクトインスタンスのリストを作成しておく\n",
    "ceih_list[:3]"
   ]
  },
  {
   "cell_type": "code",
   "execution_count": null,
   "metadata": {
    "ExecuteTime": {
     "end_time": "2021-01-12T13:43:13.962424Z",
     "start_time": "2021-01-12T13:43:13.957466Z"
    }
   },
   "outputs": [],
   "source": [
    "# ceih_listの中身を表示\n",
    "[print('template_excel_path:{}'.format(ii.template_excel_path)) for ii in ceih_list[:3]]"
   ]
  },
  {
   "cell_type": "code",
   "execution_count": null,
   "metadata": {
    "ExecuteTime": {
     "end_time": "2021-01-12T13:43:13.969369Z",
     "start_time": "2021-01-12T13:43:13.963913Z"
    }
   },
   "outputs": [],
   "source": [
    "# ceih_listの中身を表示\n",
    "[print('template_sheet_name:{}'.format(ii.template_sheet_name)) for ii in ceih_list[:3]]"
   ]
  },
  {
   "cell_type": "code",
   "execution_count": null,
   "metadata": {
    "ExecuteTime": {
     "end_time": "2021-01-12T13:43:13.975321Z",
     "start_time": "2021-01-12T13:43:13.970858Z"
    }
   },
   "outputs": [],
   "source": [
    "# ceih_listの中身を表示\n",
    "[print('output_sheet_name:{}'.format(ii.output_sheet_name)) for ii in ceih_list[:3]]"
   ]
  },
  {
   "cell_type": "code",
   "execution_count": null,
   "metadata": {},
   "outputs": [],
   "source": []
  },
  {
   "cell_type": "code",
   "execution_count": null,
   "metadata": {
    "ExecuteTime": {
     "end_time": "2021-01-12T13:43:13.990698Z",
     "start_time": "2021-01-12T13:43:13.976809Z"
    }
   },
   "outputs": [],
   "source": [
    "# ceih_listの中身を表示\n",
    "[print('*' * 80 + '\\ndf.head(3):{}'.format(ii.df.head(3)) + '\\n' + '*' * 80 + '\\n\\n') for ii in ceih_list[:3]]"
   ]
  },
  {
   "cell_type": "code",
   "execution_count": null,
   "metadata": {
    "ExecuteTime": {
     "end_time": "2021-01-12T13:43:14.004089Z",
     "start_time": "2021-01-12T13:43:13.992185Z"
    }
   },
   "outputs": [],
   "source": [
    "# ceih_listの中身を表示\n",
    "[print('*' * 80 + '\\ndf.tail(3):{}'.format(ii.df.tail(3)) + '\\n' + '*' * 80 + '\\n\\n') for ii in ceih_list[:3]]"
   ]
  },
  {
   "cell_type": "code",
   "execution_count": null,
   "metadata": {
    "ExecuteTime": {
     "end_time": "2021-01-12T13:43:14.008057Z",
     "start_time": "2021-01-12T13:43:14.005578Z"
    }
   },
   "outputs": [],
   "source": [
    "print(len(ceih_list))"
   ]
  },
  {
   "cell_type": "code",
   "execution_count": null,
   "metadata": {},
   "outputs": [],
   "source": []
  },
  {
   "cell_type": "markdown",
   "metadata": {},
   "source": [
    "# excel書式コピーを直列で実行"
   ]
  },
  {
   "cell_type": "markdown",
   "metadata": {},
   "source": [
    "## 出力ファイル名定義"
   ]
  },
  {
   "cell_type": "code",
   "execution_count": null,
   "metadata": {
    "ExecuteTime": {
     "end_time": "2021-01-12T13:43:14.014009Z",
     "start_time": "2021-01-12T13:43:14.010042Z"
    }
   },
   "outputs": [],
   "source": [
    "output_excel_path = output_path + 'output_excel_sample.xlsx'\n",
    "output_excel_path"
   ]
  },
  {
   "cell_type": "markdown",
   "metadata": {},
   "source": [
    "## 実行"
   ]
  },
  {
   "cell_type": "code",
   "execution_count": null,
   "metadata": {
    "ExecuteTime": {
     "end_time": "2021-01-12T13:43:14.018969Z",
     "start_time": "2021-01-12T13:43:14.015994Z"
    }
   },
   "outputs": [],
   "source": [
    "start = time.time()"
   ]
  },
  {
   "cell_type": "code",
   "execution_count": null,
   "metadata": {
    "ExecuteTime": {
     "end_time": "2021-01-12T13:44:29.310784Z",
     "start_time": "2021-01-12T13:43:14.020954Z"
    },
    "scrolled": true
   },
   "outputs": [],
   "source": [
    "# copy_excel_format関数を実行\n",
    "cef.copy_excel_format(\n",
    "    ceih_list = ceih_list,\n",
    "    output_excel_path = output_excel_path,\n",
    "    cef_manual_set_rows = None,\n",
    "    cef_force_dimension_copy = False,\n",
    "    cef_debug_mode = True,\n",
    "    write_index = False,\n",
    "    write_header = False,\n",
    "    copy_values = False\n",
    ")"
   ]
  },
  {
   "cell_type": "markdown",
   "metadata": {},
   "source": [
    "## 処理時間確認"
   ]
  },
  {
   "cell_type": "code",
   "execution_count": null,
   "metadata": {
    "ExecuteTime": {
     "end_time": "2021-01-12T13:44:29.317729Z",
     "start_time": "2021-01-12T13:44:29.313265Z"
    }
   },
   "outputs": [],
   "source": [
    "cef.get_elapsed_time(start)"
   ]
  },
  {
   "cell_type": "raw",
   "metadata": {},
   "source": [
    "elapsed time: 75.3 s\n",
    "75.29727053642273"
   ]
  },
  {
   "cell_type": "code",
   "execution_count": null,
   "metadata": {},
   "outputs": [],
   "source": []
  },
  {
   "cell_type": "markdown",
   "metadata": {},
   "source": [
    "# excel書式コピーを並列で実行1(1つの関数で実行)"
   ]
  },
  {
   "cell_type": "markdown",
   "metadata": {},
   "source": [
    "## cpu数確認"
   ]
  },
  {
   "cell_type": "code",
   "execution_count": null,
   "metadata": {
    "ExecuteTime": {
     "end_time": "2021-01-12T13:44:29.327648Z",
     "start_time": "2021-01-12T13:44:29.320705Z"
    }
   },
   "outputs": [],
   "source": [
    "print('cpu_count:{}'.format(str(os.cpu_count())))"
   ]
  },
  {
   "cell_type": "markdown",
   "metadata": {},
   "source": [
    "## 出力ファイル名定義"
   ]
  },
  {
   "cell_type": "code",
   "execution_count": null,
   "metadata": {
    "ExecuteTime": {
     "end_time": "2021-01-12T13:44:29.332609Z",
     "start_time": "2021-01-12T13:44:29.329633Z"
    },
    "scrolled": true
   },
   "outputs": [],
   "source": [
    "output_excel_path = output_path + 'output_excel_sample_parallel001.xlsx'\n",
    "output_excel_path"
   ]
  },
  {
   "cell_type": "markdown",
   "metadata": {},
   "source": [
    "## 一時的出力ディレクトリ名定義"
   ]
  },
  {
   "cell_type": "code",
   "execution_count": null,
   "metadata": {
    "ExecuteTime": {
     "end_time": "2021-01-12T13:44:29.341040Z",
     "start_time": "2021-01-12T13:44:29.335089Z"
    },
    "scrolled": true
   },
   "outputs": [],
   "source": [
    "tmp_output_excel_dir_path = interm_path + 'tmp_output_excel/'\n",
    "tmp_output_excel_dir_path"
   ]
  },
  {
   "cell_type": "markdown",
   "metadata": {},
   "source": [
    "## 実行"
   ]
  },
  {
   "cell_type": "code",
   "execution_count": null,
   "metadata": {
    "ExecuteTime": {
     "end_time": "2021-01-12T13:44:29.346497Z",
     "start_time": "2021-01-12T13:44:29.343520Z"
    }
   },
   "outputs": [],
   "source": [
    "start = time.time()"
   ]
  },
  {
   "cell_type": "code",
   "execution_count": null,
   "metadata": {
    "ExecuteTime": {
     "end_time": "2021-01-12T13:45:50.130156Z",
     "start_time": "2021-01-12T13:44:29.350961Z"
    }
   },
   "outputs": [],
   "source": [
    "# copy_excel_format関数の並列版を実行\n",
    "cef.copy_excel_format_parallel(\n",
    "    ceih_list = ceih_list,\n",
    "    output_excel_path = output_excel_path,\n",
    "    tmp_output_excel_dir_path = tmp_output_excel_dir_path,\n",
    "    parallel_method = 'multiprocess',\n",
    "    n_jobs = None,\n",
    "    copy_sheet_method = 'xlwings',\n",
    "    sorted_sheet_names_list = None,\n",
    "    del_tmp_dir = True,\n",
    "    n_seconds_to_sleep = 1,\n",
    "    cef_manual_set_rows = None,\n",
    "    cef_force_dimension_copy = False,\n",
    "    cef_debug_mode = True,\n",
    "    write_index = False,\n",
    "    write_header = False,\n",
    "    copy_values = False\n",
    ")"
   ]
  },
  {
   "cell_type": "markdown",
   "metadata": {},
   "source": [
    "## 処理時間確認"
   ]
  },
  {
   "cell_type": "code",
   "execution_count": null,
   "metadata": {
    "ExecuteTime": {
     "end_time": "2021-01-12T13:45:50.136099Z",
     "start_time": "2021-01-12T13:45:50.131138Z"
    }
   },
   "outputs": [],
   "source": [
    "cef.get_elapsed_time(start)"
   ]
  },
  {
   "cell_type": "raw",
   "metadata": {},
   "source": [
    "elapsed time: 80.8 s\n",
    "80.78811526298523"
   ]
  },
  {
   "cell_type": "code",
   "execution_count": null,
   "metadata": {},
   "outputs": [],
   "source": []
  },
  {
   "cell_type": "code",
   "execution_count": null,
   "metadata": {},
   "outputs": [],
   "source": []
  },
  {
   "cell_type": "markdown",
   "metadata": {},
   "source": [
    "# excel書式コピーを並列で実行2(2つの関数に分けて実行)"
   ]
  },
  {
   "cell_type": "markdown",
   "metadata": {},
   "source": [
    "## 出力ファイル名定義"
   ]
  },
  {
   "cell_type": "code",
   "execution_count": null,
   "metadata": {
    "ExecuteTime": {
     "end_time": "2021-01-12T13:45:50.141555Z",
     "start_time": "2021-01-12T13:45:50.138084Z"
    },
    "scrolled": true
   },
   "outputs": [],
   "source": [
    "output_excel_path = output_path + 'output_excel_sample_parallel002.xlsx'\n",
    "output_excel_path"
   ]
  },
  {
   "cell_type": "markdown",
   "metadata": {},
   "source": [
    "## 一時的出力ディレクトリ名定義"
   ]
  },
  {
   "cell_type": "code",
   "execution_count": null,
   "metadata": {
    "ExecuteTime": {
     "end_time": "2021-01-12T13:45:50.148995Z",
     "start_time": "2021-01-12T13:45:50.143043Z"
    },
    "scrolled": true
   },
   "outputs": [],
   "source": [
    "tmp_output_excel_dir_path = interm_path + 'tmp_output_excel/'\n",
    "tmp_output_excel_dir_path"
   ]
  },
  {
   "cell_type": "markdown",
   "metadata": {},
   "source": [
    "## 実行"
   ]
  },
  {
   "cell_type": "code",
   "execution_count": null,
   "metadata": {
    "ExecuteTime": {
     "end_time": "2021-01-12T13:45:50.155443Z",
     "start_time": "2021-01-12T13:45:50.151972Z"
    }
   },
   "outputs": [],
   "source": [
    "start = time.time()"
   ]
  },
  {
   "cell_type": "code",
   "execution_count": null,
   "metadata": {
    "ExecuteTime": {
     "end_time": "2021-01-12T13:46:10.744862Z",
     "start_time": "2021-01-12T13:45:50.156931Z"
    }
   },
   "outputs": [],
   "source": [
    "# 並列処理を行い, 一時的な書式設定済みのexcelファイルを出力する.\n",
    "cef.output_temporary_excel_parallel(\n",
    "    ceih_list = ceih_list,\n",
    "    tmp_output_excel_dir_path = tmp_output_excel_dir_path,\n",
    "    parallel_method = 'multiprocess',\n",
    "    n_jobs = None,\n",
    "    cef_manual_set_rows = None,\n",
    "    cef_force_dimension_copy = False,\n",
    "    cef_debug_mode = True,\n",
    "    write_index = False,\n",
    "    write_header = False,\n",
    "    copy_values = False\n",
    ")"
   ]
  },
  {
   "cell_type": "code",
   "execution_count": null,
   "metadata": {
    "ExecuteTime": {
     "end_time": "2021-01-12T13:47:18.662636Z",
     "start_time": "2021-01-12T13:46:10.745854Z"
    }
   },
   "outputs": [],
   "source": [
    "# 一時的に出力した複数のexcelファイルをまとめて複数シートを持つ1つのexcelファイルとする.\n",
    "cef.copy_excel_format_from_temporary_files(\n",
    "    ceih_list = ceih_list,\n",
    "    output_excel_path = output_excel_path,\n",
    "    tmp_output_excel_dir_path = tmp_output_excel_dir_path,\n",
    "    copy_sheet_method = 'xlwings',\n",
    "    sorted_sheet_names_list = None,\n",
    "    del_tmp_dir = True,\n",
    "    n_seconds_to_sleep = 1\n",
    ")"
   ]
  },
  {
   "cell_type": "markdown",
   "metadata": {},
   "source": [
    "## 処理時間確認"
   ]
  },
  {
   "cell_type": "code",
   "execution_count": null,
   "metadata": {
    "ExecuteTime": {
     "end_time": "2021-01-12T13:47:18.669082Z",
     "start_time": "2021-01-12T13:47:18.664122Z"
    }
   },
   "outputs": [],
   "source": [
    "cef.get_elapsed_time(start)"
   ]
  },
  {
   "cell_type": "raw",
   "metadata": {},
   "source": [
    "elapsed time: 88.5 s\n",
    "88.5116548538208"
   ]
  },
  {
   "cell_type": "code",
   "execution_count": null,
   "metadata": {},
   "outputs": [],
   "source": []
  }
 ],
 "metadata": {
  "kernelspec": {
   "display_name": "Python 3",
   "language": "python",
   "name": "python3"
  },
  "language_info": {
   "codemirror_mode": {
    "name": "ipython",
    "version": 3
   },
   "file_extension": ".py",
   "mimetype": "text/x-python",
   "name": "python",
   "nbconvert_exporter": "python",
   "pygments_lexer": "ipython3",
   "version": "3.8.5"
  },
  "toc": {
   "base_numbering": 1,
   "nav_menu": {},
   "number_sections": true,
   "sideBar": true,
   "skip_h1_title": false,
   "title_cell": "Table of Contents",
   "title_sidebar": "Contents",
   "toc_cell": false,
   "toc_position": {
    "height": "calc(100% - 180px)",
    "left": "10px",
    "top": "150px",
    "width": "222.075px"
   },
   "toc_section_display": true,
   "toc_window_display": true
  }
 },
 "nbformat": 4,
 "nbformat_minor": 4
}
