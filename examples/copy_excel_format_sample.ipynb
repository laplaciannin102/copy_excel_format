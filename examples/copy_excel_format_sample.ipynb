{
 "cells": [
  {
   "cell_type": "markdown",
   "metadata": {},
   "source": [
    "# Readme\n",
    "\n",
    "- author: laplaciannin102(Kosuke Asada)\n",
    "- date: 2021/01/12\n",
    "- latest version: 0.1.1\n",
    "\n",
    "---\n",
    "\n",
    "## How to install\n",
    "\n",
    "```shell\n",
    "pip install copy_excel_format\n",
    "```\n",
    "\n",
    "---\n",
    "\n",
    "## 概要\n",
    "\n",
    "### 何をするプログラム？\n",
    "\n",
    "- たくさんのテーブル(DataFrameを想定)をたくさんの書式付きexcelシートとして出力する.\n",
    "\n",
    "### 注意事項\n",
    "\n",
    "- xlwingsを使用して並列処理する場合はexcelのインストール(Office)が必要.\n",
    "- テスト等きちんと出来ていないのでバグがある可能性あり.\n",
    "\n",
    "---\n",
    "\n",
    "## 入出力\n",
    "\n",
    "### 入力\n",
    "\n",
    "- 複数のpandas.DataFrame.\n",
    "- 書式のテンプレートとして使用したいexcelシート.\n",
    "\n",
    "### 出力\n",
    "\n",
    "- **書式付き**, **テーブルの値が入力済み**のシートが複数あるexcelファイル.\n",
    "  - 書式はテンプレートexcelファイルのもの.\n",
    "  - テーブルの値はpandas.DataFrameのもの.\n",
    "\n",
    "---\n",
    "\n",
    "## 参考\n",
    "\n",
    "- [openpyxlライブラリ](https://pypi.org/project/openpyxl/)\n",
    "- [xlwingsドキュメント](https://docs.xlwings.org/ja/latest/#)\n",
    "\n",
    "- [PythonでExcelシートを別のワークブックにコピーする方法](https://www.it-swarm-ja.tech/ja/python/python%E3%81%A7excel%E3%82%B7%E3%83%BC%E3%83%88%E3%82%92%E5%88%A5%E3%81%AE%E3%83%AF%E3%83%BC%E3%82%AF%E3%83%96%E3%83%83%E3%82%AF%E3%81%AB%E3%82%B3%E3%83%94%E3%83%BC%E3%81%99%E3%82%8B%E6%96%B9%E6%B3%95/831860805/)"
   ]
  },
  {
   "cell_type": "markdown",
   "metadata": {},
   "source": [
    "# Load modules"
   ]
  },
  {
   "cell_type": "markdown",
   "metadata": {},
   "source": [
    "## copy-excel-format module"
   ]
  },
  {
   "cell_type": "code",
   "execution_count": null,
   "metadata": {
    "ExecuteTime": {
     "end_time": "2021-01-12T12:15:25.558306Z",
     "start_time": "2021-01-12T12:15:24.917475Z"
    }
   },
   "outputs": [],
   "source": [
    "# copy_excel_format\n",
    "import copy_excel_format as cef"
   ]
  },
  {
   "cell_type": "markdown",
   "metadata": {},
   "source": [
    "## other modules"
   ]
  },
  {
   "cell_type": "code",
   "execution_count": null,
   "metadata": {
    "ExecuteTime": {
     "end_time": "2021-01-12T12:15:25.563266Z",
     "start_time": "2021-01-12T12:15:25.560290Z"
    }
   },
   "outputs": [],
   "source": [
    "import os\n",
    "import gc\n",
    "import numpy as np\n",
    "import pandas as pd\n",
    "import random\n",
    "import time\n",
    "from datetime import datetime, timedelta\n",
    "from dateutil.relativedelta import relativedelta"
   ]
  },
  {
   "cell_type": "code",
   "execution_count": null,
   "metadata": {
    "ExecuteTime": {
     "end_time": "2021-01-12T12:15:25.617165Z",
     "start_time": "2021-01-12T12:15:25.564754Z"
    }
   },
   "outputs": [],
   "source": [
    "gc.collect()"
   ]
  },
  {
   "cell_type": "code",
   "execution_count": null,
   "metadata": {},
   "outputs": [],
   "source": []
  },
  {
   "cell_type": "markdown",
   "metadata": {},
   "source": [
    "# Configures"
   ]
  },
  {
   "cell_type": "markdown",
   "metadata": {},
   "source": [
    "## random seed"
   ]
  },
  {
   "cell_type": "code",
   "execution_count": null,
   "metadata": {
    "ExecuteTime": {
     "end_time": "2021-01-12T12:15:25.630555Z",
     "start_time": "2021-01-12T12:15:25.618652Z"
    }
   },
   "outputs": [],
   "source": [
    "np.random.seed(57)\n",
    "random.seed(57)"
   ]
  },
  {
   "cell_type": "code",
   "execution_count": null,
   "metadata": {},
   "outputs": [],
   "source": []
  },
  {
   "cell_type": "markdown",
   "metadata": {},
   "source": [
    "# Constants"
   ]
  },
  {
   "cell_type": "markdown",
   "metadata": {},
   "source": [
    "## paths"
   ]
  },
  {
   "cell_type": "markdown",
   "metadata": {},
   "source": [
    "## directory paths"
   ]
  },
  {
   "cell_type": "code",
   "execution_count": null,
   "metadata": {
    "ExecuteTime": {
     "end_time": "2021-01-12T12:15:25.644940Z",
     "start_time": "2021-01-12T12:15:25.632044Z"
    }
   },
   "outputs": [],
   "source": [
    "input_path = './input/'\n",
    "output_path = './output/'\n",
    "interm_path = './intermediate/'"
   ]
  },
  {
   "cell_type": "markdown",
   "metadata": {},
   "source": [
    "## file paths"
   ]
  },
  {
   "cell_type": "code",
   "execution_count": null,
   "metadata": {
    "ExecuteTime": {
     "end_time": "2021-01-12T12:15:25.656348Z",
     "start_time": "2021-01-12T12:15:25.650892Z"
    }
   },
   "outputs": [],
   "source": [
    "input_template_excel_path = input_path + 'input_template_excel_sample.xlsx'\n",
    "input_header_csv_path = input_path + 'input_header_df_sample.csv'"
   ]
  },
  {
   "cell_type": "code",
   "execution_count": null,
   "metadata": {},
   "outputs": [],
   "source": []
  },
  {
   "cell_type": "markdown",
   "metadata": {},
   "source": [
    "# Load sample files"
   ]
  },
  {
   "cell_type": "code",
   "execution_count": null,
   "metadata": {
    "ExecuteTime": {
     "end_time": "2021-01-12T12:15:25.674204Z",
     "start_time": "2021-01-12T12:15:25.658332Z"
    }
   },
   "outputs": [],
   "source": [
    "cef.load_sample_files()"
   ]
  },
  {
   "cell_type": "markdown",
   "metadata": {},
   "source": [
    "# Functions"
   ]
  },
  {
   "cell_type": "markdown",
   "metadata": {},
   "source": [
    "## get_sample_df"
   ]
  },
  {
   "cell_type": "code",
   "execution_count": null,
   "metadata": {
    "ExecuteTime": {
     "end_time": "2021-01-12T12:15:25.696027Z",
     "start_time": "2021-01-12T12:15:25.677180Z"
    }
   },
   "outputs": [],
   "source": [
    "header_df = pd.read_csv(input_header_csv_path)\n",
    "header_df.head()"
   ]
  },
  {
   "cell_type": "code",
   "execution_count": null,
   "metadata": {
    "ExecuteTime": {
     "end_time": "2021-01-12T12:15:25.708427Z",
     "start_time": "2021-01-12T12:15:25.698508Z"
    }
   },
   "outputs": [],
   "source": [
    "def get_sample_df(n_rows=10, header_df=header_df):\n",
    "    \"\"\"\n",
    "    sampleデータを作成する関数.\n",
    "    \n",
    "    Args:\n",
    "        n_rows: int, optional(default=10)\n",
    "            データ部分のDataFrameの行数.\n",
    "        \n",
    "        header_df: pandas.DataFrame\n",
    "            ヘッダー部分のDataFrame\n",
    "    \"\"\"\n",
    "    col1_samples = ['hoge', 'fuga', 'poyo', 'gray', None]\n",
    "    \n",
    "    sample_df = pd.DataFrame()\n",
    "    sample_df['No.'] = range(n_rows)\n",
    "    sample_df['No.'] = sample_df['No.'] + 1\n",
    "    sample_df['date'] = [datetime(2020, 11, 20) + relativedelta(days=jj*7) for jj in range(n_rows)]\n",
    "    sample_df['col1'] = random.choices(col1_samples, k=n_rows)\n",
    "    sample_df['col2'] = np.random.randint(0, 10, size=n_rows)\n",
    "    sample_df['col3'] = np.random.randint(100, 200, size=n_rows)\n",
    "    sample_df['col4'] = random.choices(col1_samples, k=n_rows)\n",
    "    sample_df['col5'] = np.random.randint(0, 10, size=n_rows)\n",
    "    sample_df['col6'] = np.random.randint(100, 200, size=n_rows)\n",
    "    \n",
    "    # headerをつける\n",
    "    tmp_name = random.choice(['hoge', 'fuga', 'poyo'])\n",
    "    tmp_header_df = header_df.copy()\n",
    "    tmp_header_df = tmp_header_df.replace('name: <name>', 'name: ' + tmp_name)\n",
    "    \n",
    "    sample_df = tmp_header_df.append(sample_df)\n",
    "    \n",
    "    return sample_df"
   ]
  },
  {
   "cell_type": "markdown",
   "metadata": {},
   "source": [
    "### get_sample_df example"
   ]
  },
  {
   "cell_type": "code",
   "execution_count": null,
   "metadata": {
    "ExecuteTime": {
     "end_time": "2021-01-12T12:15:25.746620Z",
     "start_time": "2021-01-12T12:15:25.710411Z"
    }
   },
   "outputs": [],
   "source": [
    "sample_df = get_sample_df()\n",
    "sample_df.head(3)"
   ]
  },
  {
   "cell_type": "code",
   "execution_count": null,
   "metadata": {
    "ExecuteTime": {
     "end_time": "2021-01-12T12:15:25.759515Z",
     "start_time": "2021-01-12T12:15:25.748108Z"
    }
   },
   "outputs": [],
   "source": [
    "sample_df.tail()"
   ]
  },
  {
   "cell_type": "code",
   "execution_count": null,
   "metadata": {},
   "outputs": [],
   "source": []
  },
  {
   "cell_type": "markdown",
   "metadata": {},
   "source": [
    "# excel書式コピー準備"
   ]
  },
  {
   "cell_type": "markdown",
   "metadata": {},
   "source": [
    "## テンプレートのexcelパスとシート名とDataFrameをセット"
   ]
  },
  {
   "cell_type": "code",
   "execution_count": null,
   "metadata": {
    "ExecuteTime": {
     "end_time": "2021-01-12T12:15:26.111178Z",
     "start_time": "2021-01-12T12:15:25.761003Z"
    },
    "code_folding": []
   },
   "outputs": [],
   "source": [
    "# DataFrameの数. シート数も同じ数.\n",
    "n_df = 10\n",
    "\n",
    "# CopyExcelInfoHolderオブジェクトインスタンスのリスト\n",
    "ceih_list = []\n",
    "\n",
    "# ceih_listというCopyExcelInfoHolderオブジェクトインスタンスのリストを作成しておく\n",
    "for ii in range(n_df):\n",
    "    \n",
    "    tmp_sheet_name = 'sheet' + str(ii+1).zfill(3)\n",
    "    tmp_df = get_sample_df(\n",
    "        n_rows = np.random.randint(10, 28)\n",
    "    )\n",
    "\n",
    "    ceih = cef.CopyExcelInfoHolder(\n",
    "        template_excel_path = input_template_excel_path,\n",
    "        template_sheet_name = 'blank_template',\n",
    "        output_sheet_name = tmp_sheet_name,\n",
    "        df = tmp_df\n",
    "    )\n",
    "    \n",
    "    ceih_list += [ceih]\n",
    "    \n",
    "    del ceih\n",
    "    gc.collect()"
   ]
  },
  {
   "cell_type": "code",
   "execution_count": null,
   "metadata": {
    "ExecuteTime": {
     "end_time": "2021-01-12T12:15:26.117627Z",
     "start_time": "2021-01-12T12:15:26.112667Z"
    }
   },
   "outputs": [],
   "source": [
    "# ceih_listというCopyExcelInfoHolderオブジェクトインスタンスのリストを作成しておく\n",
    "ceih_list[:3]"
   ]
  },
  {
   "cell_type": "code",
   "execution_count": null,
   "metadata": {
    "ExecuteTime": {
     "end_time": "2021-01-12T12:15:26.142923Z",
     "start_time": "2021-01-12T12:15:26.119611Z"
    }
   },
   "outputs": [],
   "source": [
    "# ceih_listの中身を表示\n",
    "[print('template_excel_path:{}'.format(ii.template_excel_path)) for ii in ceih_list[:3]]"
   ]
  },
  {
   "cell_type": "code",
   "execution_count": null,
   "metadata": {
    "ExecuteTime": {
     "end_time": "2021-01-12T12:15:26.165243Z",
     "start_time": "2021-01-12T12:15:26.144907Z"
    }
   },
   "outputs": [],
   "source": [
    "# ceih_listの中身を表示\n",
    "[print('template_sheet_name:{}'.format(ii.template_sheet_name)) for ii in ceih_list[:3]]"
   ]
  },
  {
   "cell_type": "code",
   "execution_count": null,
   "metadata": {
    "ExecuteTime": {
     "end_time": "2021-01-12T12:15:26.182106Z",
     "start_time": "2021-01-12T12:15:26.166731Z"
    }
   },
   "outputs": [],
   "source": [
    "# ceih_listの中身を表示\n",
    "[print('output_sheet_name:{}'.format(ii.output_sheet_name)) for ii in ceih_list[:3]]"
   ]
  },
  {
   "cell_type": "code",
   "execution_count": null,
   "metadata": {},
   "outputs": [],
   "source": []
  },
  {
   "cell_type": "code",
   "execution_count": null,
   "metadata": {
    "ExecuteTime": {
     "end_time": "2021-01-12T12:15:26.199467Z",
     "start_time": "2021-01-12T12:15:26.183595Z"
    }
   },
   "outputs": [],
   "source": [
    "# ceih_listの中身を表示\n",
    "[print('*' * 80 + '\\ndf.head(3):{}'.format(ii.df.head(3)) + '\\n' + '*' * 80 + '\\n\\n') for ii in ceih_list[:3]]"
   ]
  },
  {
   "cell_type": "code",
   "execution_count": null,
   "metadata": {
    "ExecuteTime": {
     "end_time": "2021-01-12T12:15:26.216827Z",
     "start_time": "2021-01-12T12:15:26.201452Z"
    }
   },
   "outputs": [],
   "source": [
    "# ceih_listの中身を表示\n",
    "[print('*' * 80 + '\\ndf.tail(3):{}'.format(ii.df.tail(3)) + '\\n' + '*' * 80 + '\\n\\n') for ii in ceih_list[:3]]"
   ]
  },
  {
   "cell_type": "code",
   "execution_count": null,
   "metadata": {
    "ExecuteTime": {
     "end_time": "2021-01-12T12:15:26.222283Z",
     "start_time": "2021-01-12T12:15:26.218316Z"
    }
   },
   "outputs": [],
   "source": [
    "print(len(ceih_list))"
   ]
  },
  {
   "cell_type": "code",
   "execution_count": null,
   "metadata": {},
   "outputs": [],
   "source": []
  },
  {
   "cell_type": "markdown",
   "metadata": {},
   "source": [
    "# excel書式コピーを直列で実行"
   ]
  },
  {
   "cell_type": "markdown",
   "metadata": {},
   "source": [
    "## 出力ファイル名定義"
   ]
  },
  {
   "cell_type": "code",
   "execution_count": null,
   "metadata": {
    "ExecuteTime": {
     "end_time": "2021-01-12T12:15:26.234187Z",
     "start_time": "2021-01-12T12:15:26.223772Z"
    }
   },
   "outputs": [],
   "source": [
    "output_excel_path = output_path + 'output_excel_sample.xlsx'\n",
    "output_excel_path"
   ]
  },
  {
   "cell_type": "markdown",
   "metadata": {},
   "source": [
    "## 実行"
   ]
  },
  {
   "cell_type": "code",
   "execution_count": null,
   "metadata": {
    "ExecuteTime": {
     "end_time": "2021-01-12T12:15:26.251547Z",
     "start_time": "2021-01-12T12:15:26.235675Z"
    }
   },
   "outputs": [],
   "source": [
    "start = time.time()"
   ]
  },
  {
   "cell_type": "code",
   "execution_count": null,
   "metadata": {
    "ExecuteTime": {
     "end_time": "2021-01-12T12:16:43.056518Z",
     "start_time": "2021-01-12T12:15:26.253035Z"
    },
    "scrolled": true
   },
   "outputs": [],
   "source": [
    "# copy_excel_format関数を実行\n",
    "cef.copy_excel_format(\n",
    "    ceih_list = ceih_list,\n",
    "    output_excel_path = output_excel_path,\n",
    "    cef_manual_set_rows = None,\n",
    "    cef_force_dimension_copy = False,\n",
    "    cef_debug_mode = True,\n",
    "    write_index = False,\n",
    "    write_header = False,\n",
    "    copy_values = False\n",
    ")"
   ]
  },
  {
   "cell_type": "markdown",
   "metadata": {},
   "source": [
    "## 処理時間確認"
   ]
  },
  {
   "cell_type": "code",
   "execution_count": null,
   "metadata": {
    "ExecuteTime": {
     "end_time": "2021-01-12T12:16:43.064452Z",
     "start_time": "2021-01-12T12:16:43.059988Z"
    }
   },
   "outputs": [],
   "source": [
    "cef.get_elapsed_time(start)"
   ]
  },
  {
   "cell_type": "raw",
   "metadata": {},
   "source": [
    "elapsed time: 77.2 s\n",
    "77.24392819404602"
   ]
  },
  {
   "cell_type": "code",
   "execution_count": null,
   "metadata": {},
   "outputs": [],
   "source": []
  },
  {
   "cell_type": "markdown",
   "metadata": {},
   "source": [
    "# excel書式コピーを並列で実行1(1つの関数で実行)"
   ]
  },
  {
   "cell_type": "markdown",
   "metadata": {},
   "source": [
    "## cpu数確認"
   ]
  },
  {
   "cell_type": "code",
   "execution_count": null,
   "metadata": {
    "ExecuteTime": {
     "end_time": "2021-01-12T12:16:43.093668Z",
     "start_time": "2021-01-12T12:16:43.066436Z"
    }
   },
   "outputs": [],
   "source": [
    "print('cpu_count:{}'.format(str(os.cpu_count())))"
   ]
  },
  {
   "cell_type": "markdown",
   "metadata": {},
   "source": [
    "## 出力ファイル名定義"
   ]
  },
  {
   "cell_type": "code",
   "execution_count": null,
   "metadata": {
    "ExecuteTime": {
     "end_time": "2021-01-12T12:16:43.115653Z",
     "start_time": "2021-01-12T12:16:43.095155Z"
    },
    "scrolled": true
   },
   "outputs": [],
   "source": [
    "output_excel_path = output_path + 'output_excel_sample_parallel001.xlsx'\n",
    "output_excel_path"
   ]
  },
  {
   "cell_type": "markdown",
   "metadata": {},
   "source": [
    "## 一時的出力ディレクトリ名定義"
   ]
  },
  {
   "cell_type": "code",
   "execution_count": null,
   "metadata": {
    "ExecuteTime": {
     "end_time": "2021-01-12T12:16:43.138131Z",
     "start_time": "2021-01-12T12:16:43.116646Z"
    },
    "scrolled": true
   },
   "outputs": [],
   "source": [
    "tmp_output_excel_dir_path = interm_path + 'tmp_output_excel/'\n",
    "tmp_output_excel_dir_path"
   ]
  },
  {
   "cell_type": "markdown",
   "metadata": {},
   "source": [
    "## 実行"
   ]
  },
  {
   "cell_type": "code",
   "execution_count": null,
   "metadata": {
    "ExecuteTime": {
     "end_time": "2021-01-12T12:16:43.146066Z",
     "start_time": "2021-01-12T12:16:43.139616Z"
    }
   },
   "outputs": [],
   "source": [
    "start = time.time()"
   ]
  },
  {
   "cell_type": "code",
   "execution_count": null,
   "metadata": {
    "ExecuteTime": {
     "end_time": "2021-01-12T12:18:01.452016Z",
     "start_time": "2021-01-12T12:16:43.147552Z"
    }
   },
   "outputs": [],
   "source": [
    "# copy_excel_format関数の並列版を実行\n",
    "cef.copy_excel_format_parallel(\n",
    "    ceih_list = ceih_list,\n",
    "    output_excel_path = output_excel_path,\n",
    "    tmp_output_excel_dir_path = tmp_output_excel_dir_path,\n",
    "    parallel_method = 'multiprocess',\n",
    "    n_jobs = None,\n",
    "    copy_sheet_method = 'xlwings',\n",
    "    sorted_sheet_names_list = None,\n",
    "    del_tmp_dir = True,\n",
    "    n_seconds_to_sleep = 1,\n",
    "    cef_manual_set_rows = None,\n",
    "    cef_force_dimension_copy = False,\n",
    "    cef_debug_mode = True,\n",
    "    write_index = False,\n",
    "    write_header = False,\n",
    "    copy_values = False\n",
    ")"
   ]
  },
  {
   "cell_type": "markdown",
   "metadata": {},
   "source": [
    "## 処理時間確認"
   ]
  },
  {
   "cell_type": "code",
   "execution_count": null,
   "metadata": {
    "ExecuteTime": {
     "end_time": "2021-01-12T12:18:01.459952Z",
     "start_time": "2021-01-12T12:18:01.453504Z"
    }
   },
   "outputs": [],
   "source": [
    "cef.get_elapsed_time(start)"
   ]
  },
  {
   "cell_type": "raw",
   "metadata": {},
   "source": [
    "elapsed time: 106.1 s\n",
    "106.1491436958313"
   ]
  },
  {
   "cell_type": "code",
   "execution_count": null,
   "metadata": {},
   "outputs": [],
   "source": []
  },
  {
   "cell_type": "code",
   "execution_count": null,
   "metadata": {},
   "outputs": [],
   "source": []
  },
  {
   "cell_type": "markdown",
   "metadata": {},
   "source": [
    "# excel書式コピーを並列で実行2(2つの関数に分けて実行)"
   ]
  },
  {
   "cell_type": "markdown",
   "metadata": {},
   "source": [
    "## 出力ファイル名定義"
   ]
  },
  {
   "cell_type": "code",
   "execution_count": null,
   "metadata": {
    "ExecuteTime": {
     "end_time": "2021-01-12T12:18:01.489216Z",
     "start_time": "2021-01-12T12:18:01.461936Z"
    },
    "scrolled": true
   },
   "outputs": [],
   "source": [
    "output_excel_path = output_path + 'output_excel_sample_parallel002.xlsx'\n",
    "output_excel_path"
   ]
  },
  {
   "cell_type": "markdown",
   "metadata": {},
   "source": [
    "## 一時的出力ディレクトリ名定義"
   ]
  },
  {
   "cell_type": "code",
   "execution_count": null,
   "metadata": {
    "ExecuteTime": {
     "end_time": "2021-01-12T12:18:01.501616Z",
     "start_time": "2021-01-12T12:18:01.491697Z"
    },
    "scrolled": true
   },
   "outputs": [],
   "source": [
    "tmp_output_excel_dir_path = interm_path + 'tmp_output_excel/'\n",
    "tmp_output_excel_dir_path"
   ]
  },
  {
   "cell_type": "markdown",
   "metadata": {},
   "source": [
    "## 実行"
   ]
  },
  {
   "cell_type": "code",
   "execution_count": null,
   "metadata": {
    "ExecuteTime": {
     "end_time": "2021-01-12T12:18:01.509552Z",
     "start_time": "2021-01-12T12:18:01.503104Z"
    }
   },
   "outputs": [],
   "source": [
    "start = time.time()"
   ]
  },
  {
   "cell_type": "code",
   "execution_count": null,
   "metadata": {
    "ExecuteTime": {
     "end_time": "2021-01-12T12:18:22.699130Z",
     "start_time": "2021-01-12T12:18:01.512528Z"
    }
   },
   "outputs": [],
   "source": [
    "# 並列処理を行い, 一時的な書式設定済みのexcelファイルを出力する.\n",
    "cef.output_temporary_excel_parallel(\n",
    "    ceih_list = ceih_list,\n",
    "    tmp_output_excel_dir_path = tmp_output_excel_dir_path,\n",
    "    parallel_method = 'multiprocess',\n",
    "    n_jobs = None,\n",
    "    cef_manual_set_rows = None,\n",
    "    cef_force_dimension_copy = False,\n",
    "    cef_debug_mode = True,\n",
    "    write_index = False,\n",
    "    write_header = False,\n",
    "    copy_values = False\n",
    ")"
   ]
  },
  {
   "cell_type": "code",
   "execution_count": null,
   "metadata": {
    "ExecuteTime": {
     "end_time": "2021-01-12T12:19:29.970133Z",
     "start_time": "2021-01-12T12:18:22.700619Z"
    }
   },
   "outputs": [],
   "source": [
    "# 一時的に出力した複数のexcelファイルをまとめて複数シートを持つ1つのexcelファイルとする.\n",
    "cef.copy_excel_format_from_temporary_files(\n",
    "    ceih_list = ceih_list,\n",
    "    output_excel_path = output_excel_path,\n",
    "    tmp_output_excel_dir_path = tmp_output_excel_dir_path,\n",
    "    copy_sheet_method = 'xlwings',\n",
    "    sorted_sheet_names_list = None,\n",
    "    del_tmp_dir = True,\n",
    "    n_seconds_to_sleep = 1\n",
    ")"
   ]
  },
  {
   "cell_type": "markdown",
   "metadata": {},
   "source": [
    "## 処理時間確認"
   ]
  },
  {
   "cell_type": "code",
   "execution_count": null,
   "metadata": {
    "ExecuteTime": {
     "end_time": "2021-01-12T12:19:29.976575Z",
     "start_time": "2021-01-12T12:19:29.971615Z"
    }
   },
   "outputs": [],
   "source": [
    "cef.get_elapsed_time(start)"
   ]
  },
  {
   "cell_type": "raw",
   "metadata": {},
   "source": [
    "elapsed time: 96.8 s\n",
    "96.77262282371521"
   ]
  },
  {
   "cell_type": "code",
   "execution_count": null,
   "metadata": {},
   "outputs": [],
   "source": []
  }
 ],
 "metadata": {
  "kernelspec": {
   "display_name": "Python 3",
   "language": "python",
   "name": "python3"
  },
  "language_info": {
   "codemirror_mode": {
    "name": "ipython",
    "version": 3
   },
   "file_extension": ".py",
   "mimetype": "text/x-python",
   "name": "python",
   "nbconvert_exporter": "python",
   "pygments_lexer": "ipython3",
   "version": "3.8.5"
  },
  "toc": {
   "base_numbering": 1,
   "nav_menu": {},
   "number_sections": true,
   "sideBar": true,
   "skip_h1_title": false,
   "title_cell": "Table of Contents",
   "title_sidebar": "Contents",
   "toc_cell": false,
   "toc_position": {
    "height": "calc(100% - 180px)",
    "left": "10px",
    "top": "150px",
    "width": "222.075px"
   },
   "toc_section_display": true,
   "toc_window_display": true
  }
 },
 "nbformat": 4,
 "nbformat_minor": 4
}
